{
 "cells": [
  {
   "cell_type": "raw",
   "id": "41274356",
   "metadata": {},
   "source": [
    "1 . create a text file at some location in pc \n",
    "2 . write some data into the file \n",
    "3 . read data from the existing file \n",
    "4 . from the entire data read only first line of data \n",
    "5 . Read complete data in an list format "
   ]
  },
  {
   "cell_type": "markdown",
   "id": "bd1f1312",
   "metadata": {},
   "source": [
    "### Rules to follow file handling \n",
    "\n"
   ]
  },
  {
   "cell_type": "raw",
   "id": "6ce4c828",
   "metadata": {},
   "source": [
    "1. create a text file \n",
    "2. writing the data ('w')\n",
    "3. reading the data ('r')\n",
    "4. Adding  the data ('a')\n",
    "5. For accesing only one line data (readline)\n",
    "6. for accessing the entire data in an list format (readlines)"
   ]
  },
  {
   "cell_type": "markdown",
   "id": "f06a9aac",
   "metadata": {},
   "source": [
    "### creating text file and writing the data into it "
   ]
  },
  {
   "cell_type": "raw",
   "id": "5dc8e273",
   "metadata": {},
   "source": [
    "path = \\\\\n",
    "or \n",
    "path = /"
   ]
  },
  {
   "cell_type": "code",
   "execution_count": 1,
   "id": "35a0caf7",
   "metadata": {},
   "outputs": [],
   "source": [
    "a = open(\"C:\\\\Users\\\\korla\\\\OneDrive\\\\Desktop\\\\datascience.txt\" , 'w')\n",
    "\n",
    "a.write(\"I am an CV Engineer\")\n",
    "\n",
    "\n",
    "\n",
    "a.close()"
   ]
  },
  {
   "cell_type": "markdown",
   "id": "b4167e05",
   "metadata": {},
   "source": [
    "### Read the file "
   ]
  },
  {
   "cell_type": "code",
   "execution_count": 2,
   "id": "5f3ac40a",
   "metadata": {},
   "outputs": [
    {
     "name": "stdout",
     "output_type": "stream",
     "text": [
      "I am an CV Engineer\n"
     ]
    }
   ],
   "source": [
    "b = open(\"C:\\\\Users\\\\korla\\\\OneDrive\\\\Desktop\\\\datascience.txt\" , 'r')\n",
    "\n",
    "print(b.read())\n",
    "\n",
    "\n",
    "b.close()"
   ]
  },
  {
   "cell_type": "markdown",
   "id": "d6311e5a",
   "metadata": {},
   "source": [
    "### Adding the data "
   ]
  },
  {
   "cell_type": "code",
   "execution_count": 4,
   "id": "a949c95b",
   "metadata": {},
   "outputs": [
    {
     "data": {
      "text/plain": [
       "[10, 20, 30, 100]"
      ]
     },
     "execution_count": 4,
     "metadata": {},
     "output_type": "execute_result"
    }
   ],
   "source": [
    "a = [10,20,30]\n",
    "a.append(100)\n",
    "a"
   ]
  },
  {
   "cell_type": "code",
   "execution_count": 3,
   "id": "67ea8889",
   "metadata": {},
   "outputs": [],
   "source": [
    "c = open(\"C:\\\\Users\\\\korla\\\\OneDrive\\\\Desktop\\\\datascience.txt\" , 'a')\n",
    "\n",
    "c.write(\"My students are AKbar , Ashwini , akhil , vinith ,hasan , etc ...........\")\n",
    "\n",
    "\n",
    "c.close()"
   ]
  },
  {
   "cell_type": "code",
   "execution_count": 5,
   "id": "59a01bb2",
   "metadata": {},
   "outputs": [
    {
     "name": "stdout",
     "output_type": "stream",
     "text": [
      "I am an CV EngineerMy students are AKbar , Ashwini , akhil , vinith ,hasan , etc ...........\n"
     ]
    }
   ],
   "source": [
    "b = open(\"C:\\\\Users\\\\korla\\\\OneDrive\\\\Desktop\\\\datascience.txt\" , 'r')\n",
    "\n",
    "print(b.read())\n",
    "\n",
    "\n",
    "b.close()"
   ]
  },
  {
   "cell_type": "code",
   "execution_count": 6,
   "id": "0cddfe05",
   "metadata": {},
   "outputs": [],
   "source": [
    "a1 = open(\"C:\\\\Users\\\\korla\\\\OneDrive\\\\Desktop\\\\datascience.txt\" , 'w')\n",
    "\n",
    "a1.write(\"Avengers\")\n",
    "\n",
    "\n",
    "\n",
    "a1.close()"
   ]
  },
  {
   "cell_type": "markdown",
   "id": "37806814",
   "metadata": {},
   "source": [
    "### ReadLine and Readlines "
   ]
  },
  {
   "cell_type": "code",
   "execution_count": 7,
   "id": "b2583e18",
   "metadata": {},
   "outputs": [],
   "source": [
    "a = open(\"C:\\\\Users\\\\korla\\\\OneDrive\\\\Desktop\\\\machine.txt\" , 'w')\n",
    "\n",
    "a.write(\"\"\"Most internet service providers provide good download speed, but they cut corners with upload speed.\n",
    "Do understand that upload speeds are equally important for a good internet speed. The packet transfer goes both upstream and downstream, so you also need a good upload speed along with download speed. \n",
    "This comes handy when uploading files to cloud storage, taking online backup of smartphones, photos, videos, etc.\"\"\")\n",
    "\n",
    "\n",
    "\n",
    "a.close()"
   ]
  },
  {
   "cell_type": "code",
   "execution_count": 8,
   "id": "d0b03397",
   "metadata": {},
   "outputs": [
    {
     "name": "stdout",
     "output_type": "stream",
     "text": [
      "Most internet service providers provide good download speed, but they cut corners with upload speed.\n",
      "Do understand that upload speeds are equally important for a good internet speed. The packet transfer goes both upstream and downstream, so you also need a good upload speed along with download speed. \n",
      "This comes handy when uploading files to cloud storage, taking online backup of smartphones, photos, videos, etc.\n"
     ]
    }
   ],
   "source": [
    "b = open(\"C:\\\\Users\\\\korla\\\\OneDrive\\\\Desktop\\\\machine.txt\" , 'r')\n",
    "\n",
    "print(b.read())\n",
    "\n",
    "\n",
    "b.close()"
   ]
  },
  {
   "cell_type": "code",
   "execution_count": 9,
   "id": "5eeb0f3a",
   "metadata": {},
   "outputs": [
    {
     "name": "stdout",
     "output_type": "stream",
     "text": [
      "Most internet service providers provide good download speed, but they cut corners with upload speed.\n",
      "\n"
     ]
    }
   ],
   "source": [
    "# readline will read till first ful stop only \n",
    "\n",
    "b = open(\"C:\\\\Users\\\\korla\\\\OneDrive\\\\Desktop\\\\machine.txt\" , 'r')\n",
    "\n",
    "print(b.readline())\n",
    "\n",
    "\n",
    "b.close()"
   ]
  },
  {
   "cell_type": "code",
   "execution_count": 10,
   "id": "8097dccc",
   "metadata": {},
   "outputs": [
    {
     "name": "stdout",
     "output_type": "stream",
     "text": [
      "['Most internet service providers provide good download speed, but they cut corners with upload speed.\\n', 'Do understand that upload speeds are equally important for a good internet speed. The packet transfer goes both upstream and downstream, so you also need a good upload speed along with download speed. \\n', 'This comes handy when uploading files to cloud storage, taking online backup of smartphones, photos, videos, etc.']\n"
     ]
    }
   ],
   "source": [
    "## readlines read complete data in a list format\n",
    "\n",
    "b = open(\"C:\\\\Users\\\\korla\\\\OneDrive\\\\Desktop\\\\machine.txt\" , 'r')\n",
    "\n",
    "print(b.readlines())\n",
    "\n",
    "\n",
    "b.close()"
   ]
  },
  {
   "cell_type": "code",
   "execution_count": 12,
   "id": "2847d2f1",
   "metadata": {},
   "outputs": [
    {
     "name": "stdout",
     "output_type": "stream",
     "text": [
      "<class 'list'>\n"
     ]
    }
   ],
   "source": [
    "b = open(\"C:\\\\Users\\\\korla\\\\OneDrive\\\\Desktop\\\\machine.txt\" , 'r')\n",
    "\n",
    "g = b.readlines()\n",
    "\n",
    "print(type(g))\n",
    "b.close()"
   ]
  },
  {
   "cell_type": "code",
   "execution_count": null,
   "id": "3e8465f7",
   "metadata": {},
   "outputs": [],
   "source": []
  },
  {
   "cell_type": "code",
   "execution_count": null,
   "id": "259859e1",
   "metadata": {},
   "outputs": [],
   "source": []
  },
  {
   "cell_type": "code",
   "execution_count": null,
   "id": "42e35bd8",
   "metadata": {},
   "outputs": [],
   "source": [
    "### same concepts in advanced manner using a condition called (with)"
   ]
  },
  {
   "cell_type": "code",
   "execution_count": 13,
   "id": "6543d764",
   "metadata": {},
   "outputs": [],
   "source": [
    "with open(\"C:\\\\Users\\\\korla\\\\OneDrive\\\\Desktop\\\\deep.txt\" , 'w') as f:\n",
    "    f.write(\"\"\"Most internet service providers provide good download speed, but they cut corners with upload speed.\n",
    "Do understand that upload speeds are equally important for a good internet speed. The packet transfer goes both upstream and downstream, so you also need a good upload speed along with download speed. \n",
    "This comes handy when uploading files to cloud storage, taking online backup of smartphones, photos, videos, etc.\"\"\")\n",
    "    f.close()"
   ]
  },
  {
   "cell_type": "code",
   "execution_count": 17,
   "id": "7828f67c",
   "metadata": {},
   "outputs": [
    {
     "name": "stdout",
     "output_type": "stream",
     "text": [
      "Most internet service providers provide good download speed, but they cut corners with upload speed.\n",
      "Do understand that upload speeds are equally important for a good internet speed. The packet transfer goes both upstream and downstream, so you also need a good upload speed along with download speed. \n",
      "This comes handy when uploading files to cloud storage, taking online backup of smartphones, photos, videos, etc.\n"
     ]
    }
   ],
   "source": [
    "with open(\"C:\\\\Users\\\\korla\\\\OneDrive\\\\Desktop\\\\deep.txt\" , 'r') as f:\n",
    "    print(f.read())\n",
    "    f.close()\n"
   ]
  },
  {
   "cell_type": "code",
   "execution_count": 18,
   "id": "ad24f2a8",
   "metadata": {},
   "outputs": [],
   "source": [
    "with open(\"C:\\\\Users\\\\korla\\\\OneDrive\\\\Desktop\\\\deep.txt\" , 'a') as f:\n",
    "    f.write(\"\"\"Most internet service providers provide good download speed, but they cut corners with upload speed.\n",
    "Do understand that upload speeds are equally important for a good internet speed. The packet transfer goes both upstream and downstream, so you also need a good upload speed along with download speed. \n",
    "This comes handy when uploading files to cloud storage, taking online backup of smartphones, photos, videos, etc.  I am an iron man\"\"\")\n",
    "    f.close()"
   ]
  },
  {
   "cell_type": "code",
   "execution_count": 19,
   "id": "c6ad2bac",
   "metadata": {},
   "outputs": [
    {
     "name": "stdout",
     "output_type": "stream",
     "text": [
      "Most internet service providers provide good download speed, but they cut corners with upload speed.\n",
      "Do understand that upload speeds are equally important for a good internet speed. The packet transfer goes both upstream and downstream, so you also need a good upload speed along with download speed. \n",
      "This comes handy when uploading files to cloud storage, taking online backup of smartphones, photos, videos, etc.Most internet service providers provide good download speed, but they cut corners with upload speed.\n",
      "Do understand that upload speeds are equally important for a good internet speed. The packet transfer goes both upstream and downstream, so you also need a good upload speed along with download speed. \n",
      "This comes handy when uploading files to cloud storage, taking online backup of smartphones, photos, videos, etc.  I am an iron man\n"
     ]
    }
   ],
   "source": [
    "with open(\"C:\\\\Users\\\\korla\\\\OneDrive\\\\Desktop\\\\deep.txt\" , 'r') as f:\n",
    "    print(f.read())\n",
    "    f.close()"
   ]
  },
  {
   "cell_type": "code",
   "execution_count": 20,
   "id": "65eef9b5",
   "metadata": {},
   "outputs": [
    {
     "name": "stdout",
     "output_type": "stream",
     "text": [
      "Most internet service providers provide good download speed, but they cut corners with upload speed.\n",
      "\n"
     ]
    }
   ],
   "source": [
    "with open(\"C:\\\\Users\\\\korla\\\\OneDrive\\\\Desktop\\\\deep.txt\" , 'r') as f:\n",
    "    print(f.readline())\n",
    "    f.close()"
   ]
  },
  {
   "cell_type": "code",
   "execution_count": 21,
   "id": "6585fd08",
   "metadata": {},
   "outputs": [
    {
     "name": "stdout",
     "output_type": "stream",
     "text": [
      "['Most internet service providers provide good download speed, but they cut corners with upload speed.\\n', 'Do understand that upload speeds are equally important for a good internet speed. The packet transfer goes both upstream and downstream, so you also need a good upload speed along with download speed. \\n', 'This comes handy when uploading files to cloud storage, taking online backup of smartphones, photos, videos, etc.Most internet service providers provide good download speed, but they cut corners with upload speed.\\n', 'Do understand that upload speeds are equally important for a good internet speed. The packet transfer goes both upstream and downstream, so you also need a good upload speed along with download speed. \\n', 'This comes handy when uploading files to cloud storage, taking online backup of smartphones, photos, videos, etc.  I am an iron man']\n"
     ]
    }
   ],
   "source": [
    "with open(\"C:\\\\Users\\\\korla\\\\OneDrive\\\\Desktop\\\\deep.txt\" , 'r') as f:\n",
    "    print(f.readlines())\n",
    "    f.close()"
   ]
  },
  {
   "cell_type": "code",
   "execution_count": null,
   "id": "b323f15f",
   "metadata": {},
   "outputs": [],
   "source": []
  },
  {
   "cell_type": "code",
   "execution_count": null,
   "id": "ba5ab6aa",
   "metadata": {},
   "outputs": [],
   "source": []
  },
  {
   "cell_type": "markdown",
   "id": "9823334c",
   "metadata": {},
   "source": [
    "## os Module "
   ]
  },
  {
   "cell_type": "code",
   "execution_count": 22,
   "id": "54a94fc1",
   "metadata": {},
   "outputs": [],
   "source": [
    "import os"
   ]
  },
  {
   "cell_type": "code",
   "execution_count": 23,
   "id": "37e9ce9e",
   "metadata": {},
   "outputs": [
    {
     "data": {
      "text/plain": [
       "['$RECYCLE.BIN',\n",
       " '.ipynb_checkpoints',\n",
       " 'Django',\n",
       " 'Feature engineering',\n",
       " 'Feature Selection',\n",
       " 'Flask',\n",
       " 'Flask pycharm',\n",
       " 'github my account',\n",
       " 'Image Processing',\n",
       " 'Job Projects',\n",
       " 'Ml Production udemy',\n",
       " 'My complete projects list',\n",
       " 'Office NLP with Python udemy',\n",
       " 'projects_ME',\n",
       " 'Python codes for data science',\n",
       " 'Regex',\n",
       " 'System Volume Information',\n",
       " 'TensorFlow',\n",
       " 'Udemy projects',\n",
       " 'Web Scrapping',\n",
       " 'workspaceMorning bacth']"
      ]
     },
     "execution_count": 23,
     "metadata": {},
     "output_type": "execute_result"
    }
   ],
   "source": [
    "os.listdir('/.')  # root directory "
   ]
  },
  {
   "cell_type": "code",
   "execution_count": 24,
   "id": "b804e746",
   "metadata": {},
   "outputs": [
    {
     "data": {
      "text/plain": [
       "['.ipynb_checkpoints', 'Python Basics']"
      ]
     },
     "execution_count": 24,
     "metadata": {},
     "output_type": "execute_result"
    }
   ],
   "source": [
    "os.listdir('./../')"
   ]
  },
  {
   "cell_type": "code",
   "execution_count": 25,
   "id": "fbe68710",
   "metadata": {},
   "outputs": [
    {
     "data": {
      "text/plain": [
       "['.ipynb_checkpoints',\n",
       " 'control statements .ipynb',\n",
       " 'Data_Types_variables_print conditions .ipynb',\n",
       " 'Dictionary .ipynb',\n",
       " 'Dictionary comprehension .ipynb',\n",
       " 'File Handling .ipynb',\n",
       " 'Functions .ipynb',\n",
       " 'Lambda function .ipynb',\n",
       " 'List .ipynb',\n",
       " 'List comprehension .ipynb',\n",
       " 'Sets .ipynb',\n",
       " 'some basics and operators .ipynb',\n",
       " 'Strings.ipynb',\n",
       " 'tuple .ipynb']"
      ]
     },
     "execution_count": 25,
     "metadata": {},
     "output_type": "execute_result"
    }
   ],
   "source": [
    "os.listdir('./')"
   ]
  },
  {
   "cell_type": "code",
   "execution_count": 28,
   "id": "c26a78a5",
   "metadata": {},
   "outputs": [
    {
     "data": {
      "text/plain": [
       "['classification', 'clustering', 'Regression']"
      ]
     },
     "execution_count": 28,
     "metadata": {},
     "output_type": "execute_result"
    }
   ],
   "source": [
    "os.listdir('./../../Machine Learning/')"
   ]
  },
  {
   "cell_type": "markdown",
   "id": "28981a91",
   "metadata": {},
   "source": [
    "# math module "
   ]
  },
  {
   "cell_type": "code",
   "execution_count": 29,
   "id": "2a3fe180",
   "metadata": {},
   "outputs": [],
   "source": [
    "import math"
   ]
  },
  {
   "cell_type": "code",
   "execution_count": 30,
   "id": "4bc542f3",
   "metadata": {},
   "outputs": [
    {
     "name": "stdout",
     "output_type": "stream",
     "text": [
      "120\n"
     ]
    }
   ],
   "source": [
    "a = 5  # 5 * 4 * 3 * 2 * 1\n",
    "\n",
    "b = math.factorial(a)\n",
    "\n",
    "\n",
    "print(b)"
   ]
  },
  {
   "cell_type": "code",
   "execution_count": 31,
   "id": "b27afd59",
   "metadata": {},
   "outputs": [
    {
     "data": {
      "text/plain": [
       "0.8509035245341184"
      ]
     },
     "execution_count": 31,
     "metadata": {},
     "output_type": "execute_result"
    }
   ],
   "source": [
    "a = 45\n",
    "\n",
    "b = math.sin(a)\n",
    "\n",
    "b"
   ]
  },
  {
   "cell_type": "code",
   "execution_count": null,
   "id": "65b65f00",
   "metadata": {},
   "outputs": [],
   "source": []
  }
 ],
 "metadata": {
  "kernelspec": {
   "display_name": "Python 3 (ipykernel)",
   "language": "python",
   "name": "python3"
  },
  "language_info": {
   "codemirror_mode": {
    "name": "ipython",
    "version": 3
   },
   "file_extension": ".py",
   "mimetype": "text/x-python",
   "name": "python",
   "nbconvert_exporter": "python",
   "pygments_lexer": "ipython3",
   "version": "3.9.12"
  }
 },
 "nbformat": 4,
 "nbformat_minor": 5
}
