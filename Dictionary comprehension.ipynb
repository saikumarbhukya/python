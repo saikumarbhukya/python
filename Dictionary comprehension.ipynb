{
 "cells": [
  {
   "cell_type": "code",
   "execution_count": 2,
   "id": "5c8d06f7",
   "metadata": {},
   "outputs": [
    {
     "data": {
      "text/plain": [
       "{'a': 1, 'b': 2, 'c': 3, 'd': 4}"
      ]
     },
     "execution_count": 2,
     "metadata": {},
     "output_type": "execute_result"
    }
   ],
   "source": [
    "a={'a':1,'b':2,'c':3,'d':4}\n",
    "a\n"
   ]
  },
  {
   "cell_type": "code",
   "execution_count": 3,
   "id": "56969a72",
   "metadata": {},
   "outputs": [
    {
     "data": {
      "text/plain": [
       "dict"
      ]
     },
     "execution_count": 3,
     "metadata": {},
     "output_type": "execute_result"
    }
   ],
   "source": [
    "type(a)"
   ]
  },
  {
   "cell_type": "code",
   "execution_count": 4,
   "id": "21b3de2d",
   "metadata": {},
   "outputs": [
    {
     "name": "stdout",
     "output_type": "stream",
     "text": [
      "{'x': 0, 'y': 0, 'z': 7}\n"
     ]
    }
   ],
   "source": [
    "a={}\n",
    "\n",
    "a['x']=0\n",
    "a['y']=0\n",
    "a['z']=7\n",
    "print(a)"
   ]
  },
  {
   "cell_type": "code",
   "execution_count": 5,
   "id": "8c62b50b",
   "metadata": {},
   "outputs": [
    {
     "name": "stdout",
     "output_type": "stream",
     "text": [
      "{1: 1, 2: 4, 3: 9, 4: 16, 5: 25, 6: 36, 7: 49, 8: 64, 9: 81, 10: 100}\n"
     ]
    }
   ],
   "source": [
    "b={}\n",
    "for i in range(1,11):\n",
    "    b[i]=i**2\n",
    "print(b)\n"
   ]
  },
  {
   "cell_type": "markdown",
   "id": "48c64395",
   "metadata": {},
   "source": [
    "### Dictionart comprehension"
   ]
  },
  {
   "cell_type": "code",
   "execution_count": 6,
   "id": "217af625",
   "metadata": {},
   "outputs": [],
   "source": [
    "# normal technique \n",
    "old_fruit_prices = {\"mango\":20 , 'apple':50 , 'grapes':80}\n",
    "\n",
    "\n",
    "new_fruit_prices = {}\n",
    "\n",
    "for i , j in old_fruit_prices.items():\n",
    "    new_fruit_prices[i] = j * 10\n",
    "    \n",
    "    \n",
    "    \n"
   ]
  },
  {
   "cell_type": "code",
   "execution_count": 8,
   "id": "216fb675",
   "metadata": {},
   "outputs": [
    {
     "data": {
      "text/plain": [
       "{'mango': 200, 'apple': 500, 'grapes': 800}"
      ]
     },
     "execution_count": 8,
     "metadata": {},
     "output_type": "execute_result"
    }
   ],
   "source": [
    "new_fruit_prices"
   ]
  },
  {
   "cell_type": "code",
   "execution_count": 10,
   "id": "79dc8d6b",
   "metadata": {},
   "outputs": [
    {
     "data": {
      "text/plain": [
       "{'mango': 2000, 'apple': 5000, 'grapes': 8000}"
      ]
     },
     "execution_count": 10,
     "metadata": {},
     "output_type": "execute_result"
    }
   ],
   "source": [
    "# dict comprehension \n",
    "old_fruit_prices = {\"mango\":20 , 'apple':50 , 'grapes':80}\n",
    "\n",
    "new={i:j*100 for i,j in old_fruit_prices.items()}\n",
    "new\n"
   ]
  },
  {
   "cell_type": "code",
   "execution_count": null,
   "id": "da2b2e1a",
   "metadata": {},
   "outputs": [],
   "source": [
    "laptops = {'HP':10 , 'DeLL':20 , 'acer':50 , 'ASUS' : 100}\n",
    "laptops"
   ]
  },
  {
   "cell_type": "code",
   "execution_count": 15,
   "id": "98f9a4b9",
   "metadata": {},
   "outputs": [
    {
     "ename": "NameError",
     "evalue": "name 'laptops' is not defined",
     "output_type": "error",
     "traceback": [
      "\u001b[1;31m---------------------------------------------------------------------------\u001b[0m",
      "\u001b[1;31mNameError\u001b[0m                                 Traceback (most recent call last)",
      "Input \u001b[1;32mIn [15]\u001b[0m, in \u001b[0;36m<cell line: 3>\u001b[1;34m()\u001b[0m\n\u001b[0;32m      1\u001b[0m \u001b[38;5;66;03m# which laptop values are greater than 20 pls multiply it with 100\u001b[39;00m\n\u001b[1;32m----> 3\u001b[0m a \u001b[38;5;241m=\u001b[39m {i:j \u001b[38;5;241m*\u001b[39m \u001b[38;5;241m100\u001b[39m \u001b[38;5;28;01mfor\u001b[39;00m i,j \u001b[38;5;129;01min\u001b[39;00m \u001b[43mlaptops\u001b[49m\u001b[38;5;241m.\u001b[39mitems() \u001b[38;5;28;01mif\u001b[39;00m j \u001b[38;5;241m>\u001b[39m \u001b[38;5;241m20\u001b[39m}\n\u001b[0;32m      4\u001b[0m a\n",
      "\u001b[1;31mNameError\u001b[0m: name 'laptops' is not defined"
     ]
    }
   ],
   "source": [
    "# which laptop values are greater than 20 pls multiply it with 100\n",
    "\n",
    "a = {i:j * 100 for i,j in laptops.items() if j > 20}\n",
    "a"
   ]
  },
  {
   "cell_type": "code",
   "execution_count": null,
   "id": "92e52e36",
   "metadata": {},
   "outputs": [],
   "source": [
    "# normal\n",
    "\n",
    "# if marks less than 40 means make fail and above 40 means make pass\n",
    "\n",
    "result = {'kamal':50 , 'shiva':20, 'pradeep' : 60 , 'ashu' : 15}\n",
    "\n",
    "new_result = {}\n",
    "\n",
    "\n",
    "for i , j in result.items():\n",
    "    if j >= 40:\n",
    "        new_result[i] = 'PASS'\n",
    "    else:\n",
    "        new_result[i] = \"FAIL\"\n",
    "        \n",
    "    \n"
   ]
  },
  {
   "cell_type": "code",
   "execution_count": 22,
   "id": "e73610b7",
   "metadata": {},
   "outputs": [
    {
     "data": {
      "text/plain": [
       "{'kamal': 'pass ', 'shiva': 'fail', 'pradeep': 'pass ', 'ashu': 'fail'}"
      ]
     },
     "execution_count": 22,
     "metadata": {},
     "output_type": "execute_result"
    }
   ],
   "source": [
    "result = {'kamal':50 , 'shiva':20, 'pradeep' : 60 , 'ashu' : 15}\n",
    "a={i:('pass 'if j>=40 else 'fail') for i,j in result.items()}\n",
    "a"
   ]
  },
  {
   "cell_type": "code",
   "execution_count": 23,
   "id": "28c766b8",
   "metadata": {},
   "outputs": [
    {
     "data": {
      "text/plain": [
       "{1: 'ODD',\n",
       " 2: 'EVEN',\n",
       " 3: 'ODD',\n",
       " 4: 'EVEN',\n",
       " 5: 'ODD',\n",
       " 6: 'EVEN',\n",
       " 7: 'ODD',\n",
       " 8: 'EVEN',\n",
       " 9: 'ODD',\n",
       " 10: 'EVEN'}"
      ]
     },
     "execution_count": 23,
     "metadata": {},
     "output_type": "execute_result"
    }
   ],
   "source": [
    "a = {i:(\"EVEN\" if i% 2 == 0 else \"ODD\") for i in range(1,11)}\n",
    "a"
   ]
  },
  {
   "cell_type": "code",
   "execution_count": null,
   "id": "5274f416",
   "metadata": {},
   "outputs": [],
   "source": []
  }
 ],
 "metadata": {
  "kernelspec": {
   "display_name": "Python 3 (ipykernel)",
   "language": "python",
   "name": "python3"
  },
  "language_info": {
   "codemirror_mode": {
    "name": "ipython",
    "version": 3
   },
   "file_extension": ".py",
   "mimetype": "text/x-python",
   "name": "python",
   "nbconvert_exporter": "python",
   "pygments_lexer": "ipython3",
   "version": "3.9.12"
  }
 },
 "nbformat": 4,
 "nbformat_minor": 5
}
