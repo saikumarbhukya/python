{
 "cells": [
  {
   "cell_type": "code",
   "execution_count": null,
   "id": "255f258a",
   "metadata": {},
   "outputs": [],
   "source": [
    "### function means = creating the logic only once but we can call the function and execute the logic many times \n"
   ]
  },
  {
   "cell_type": "code",
   "execution_count": null,
   "id": "49dbc853",
   "metadata": {},
   "outputs": [],
   "source": [
    "def sai():\n",
    "    print(\"hello world\")\n",
    "    \n"
   ]
  },
  {
   "cell_type": "code",
   "execution_count": 2,
   "id": "5a475790",
   "metadata": {},
   "outputs": [
    {
     "ename": "NameError",
     "evalue": "name 'sai' is not defined",
     "output_type": "error",
     "traceback": [
      "\u001b[1;31m---------------------------------------------------------------------------\u001b[0m",
      "\u001b[1;31mNameError\u001b[0m                                 Traceback (most recent call last)",
      "Input \u001b[1;32mIn [2]\u001b[0m, in \u001b[0;36m<cell line: 1>\u001b[1;34m()\u001b[0m\n\u001b[1;32m----> 1\u001b[0m \u001b[43msai\u001b[49m()\n",
      "\u001b[1;31mNameError\u001b[0m: name 'sai' is not defined"
     ]
    }
   ],
   "source": [
    "sai()"
   ]
  },
  {
   "cell_type": "code",
   "execution_count": null,
   "id": "8cc05868",
   "metadata": {},
   "outputs": [],
   "source": [
    "def kamal():\n",
    "    print(\"Data science\")\n",
    "    print()\n",
    "    print(\"machine learning\")\n",
    "    print()\n",
    "    print(\"Computer vision\")"
   ]
  },
  {
   "cell_type": "code",
   "execution_count": 3,
   "id": "e2572014",
   "metadata": {},
   "outputs": [
    {
     "ename": "NameError",
     "evalue": "name 'kamal' is not defined",
     "output_type": "error",
     "traceback": [
      "\u001b[1;31m---------------------------------------------------------------------------\u001b[0m",
      "\u001b[1;31mNameError\u001b[0m                                 Traceback (most recent call last)",
      "Input \u001b[1;32mIn [3]\u001b[0m, in \u001b[0;36m<cell line: 1>\u001b[1;34m()\u001b[0m\n\u001b[1;32m----> 1\u001b[0m \u001b[43mkamal\u001b[49m()\n",
      "\u001b[1;31mNameError\u001b[0m: name 'kamal' is not defined"
     ]
    }
   ],
   "source": [
    "kamal()\n"
   ]
  },
  {
   "cell_type": "code",
   "execution_count": null,
   "id": "39b62add",
   "metadata": {},
   "outputs": [],
   "source": [
    "def dhoni(f):  # i have to accept value 27 \n",
    "    if f % 2 == 0:\n",
    "        print(\"EVEN\")\n",
    "    else:\n",
    "        print(\"ODD\")\n",
    "    "
   ]
  },
  {
   "cell_type": "code",
   "execution_count": 4,
   "id": "533f0083",
   "metadata": {},
   "outputs": [
    {
     "ename": "NameError",
     "evalue": "name 'dhoni' is not defined",
     "output_type": "error",
     "traceback": [
      "\u001b[1;31m---------------------------------------------------------------------------\u001b[0m",
      "\u001b[1;31mNameError\u001b[0m                                 Traceback (most recent call last)",
      "Input \u001b[1;32mIn [4]\u001b[0m, in \u001b[0;36m<cell line: 1>\u001b[1;34m()\u001b[0m\n\u001b[1;32m----> 1\u001b[0m \u001b[43mdhoni\u001b[49m(\u001b[38;5;241m2\u001b[39m)\n",
      "\u001b[1;31mNameError\u001b[0m: name 'dhoni' is not defined"
     ]
    }
   ],
   "source": [
    "dhoni(2)"
   ]
  },
  {
   "cell_type": "code",
   "execution_count": null,
   "id": "8152285f",
   "metadata": {},
   "outputs": [],
   "source": []
  }
 ],
 "metadata": {
  "kernelspec": {
   "display_name": "Python 3 (ipykernel)",
   "language": "python",
   "name": "python3"
  },
  "language_info": {
   "codemirror_mode": {
    "name": "ipython",
    "version": 3
   },
   "file_extension": ".py",
   "mimetype": "text/x-python",
   "name": "python",
   "nbconvert_exporter": "python",
   "pygments_lexer": "ipython3",
   "version": "3.9.12"
  }
 },
 "nbformat": 4,
 "nbformat_minor": 5
}
