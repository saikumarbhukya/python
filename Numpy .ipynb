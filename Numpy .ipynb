{
 "cells": [
  {
   "cell_type": "code",
   "execution_count": 1,
   "id": "4aa6d49e",
   "metadata": {},
   "outputs": [],
   "source": [
    "import numpy as np  "
   ]
  },
  {
   "cell_type": "code",
   "execution_count": 7,
   "id": "1998aa77",
   "metadata": {},
   "outputs": [
    {
     "name": "stdout",
     "output_type": "stream",
     "text": [
      "[1, 2, 3, 44]\n"
     ]
    }
   ],
   "source": [
    "a = [1,2,3,44]\n",
    "type(a)\n",
    "print(a)"
   ]
  },
  {
   "cell_type": "code",
   "execution_count": 5,
   "id": "bce7276e",
   "metadata": {},
   "outputs": [
    {
     "ename": "AttributeError",
     "evalue": "'list' object has no attribute 'ndim'",
     "output_type": "error",
     "traceback": [
      "\u001b[1;31m---------------------------------------------------------------------------\u001b[0m",
      "\u001b[1;31mAttributeError\u001b[0m                            Traceback (most recent call last)",
      "\u001b[1;32m~\\AppData\\Local\\Temp/ipykernel_6832/3260760521.py\u001b[0m in \u001b[0;36m<module>\u001b[1;34m\u001b[0m\n\u001b[1;32m----> 1\u001b[1;33m \u001b[0ma\u001b[0m\u001b[1;33m.\u001b[0m\u001b[0mndim\u001b[0m\u001b[1;33m\u001b[0m\u001b[1;33m\u001b[0m\u001b[0m\n\u001b[0m",
      "\u001b[1;31mAttributeError\u001b[0m: 'list' object has no attribute 'ndim'"
     ]
    }
   ],
   "source": [
    "a.ndim"
   ]
  },
  {
   "cell_type": "code",
   "execution_count": 11,
   "id": "dd3a4498",
   "metadata": {},
   "outputs": [
    {
     "name": "stdout",
     "output_type": "stream",
     "text": [
      "[ 1  2  3 44]\n",
      "<class 'numpy.ndarray'>\n",
      "1\n"
     ]
    }
   ],
   "source": [
    "a = np.array([1,2,3,44])\n",
    "print(a)\n",
    "print(type(a))\n",
    "print(a.ndim)  # ndim is the keyword which is used to find the number of dimension "
   ]
  },
  {
   "cell_type": "code",
   "execution_count": 12,
   "id": "1c0a9629",
   "metadata": {},
   "outputs": [
    {
     "name": "stdout",
     "output_type": "stream",
     "text": [
      "[[ 1  2  3 44]]\n",
      "<class 'numpy.ndarray'>\n",
      "Number of dimensions =  2\n"
     ]
    }
   ],
   "source": [
    "a = np.array([[1,2,3,44]])\n",
    "print(a)\n",
    "print(type(a))\n",
    "print(\"Number of dimensions = \" , a.ndim)"
   ]
  },
  {
   "cell_type": "code",
   "execution_count": 13,
   "id": "977fc487",
   "metadata": {},
   "outputs": [
    {
     "name": "stdout",
     "output_type": "stream",
     "text": [
      "[[[ 1  2  3 44]]]\n",
      "<class 'numpy.ndarray'>\n",
      "Number of dimensions =  3\n"
     ]
    }
   ],
   "source": [
    "a = np.array([[[1,2,3,44]]])\n",
    "print(a)\n",
    "print(type(a))\n",
    "print(\"Number of dimensions = \" , a.ndim)"
   ]
  },
  {
   "cell_type": "markdown",
   "id": "fbf12cc7",
   "metadata": {},
   "source": [
    "## matrix "
   ]
  },
  {
   "cell_type": "code",
   "execution_count": 15,
   "id": "904c48c7",
   "metadata": {},
   "outputs": [
    {
     "name": "stdout",
     "output_type": "stream",
     "text": [
      "[[10 11 12]\n",
      " [10 21 33]]\n",
      "2\n"
     ]
    }
   ],
   "source": [
    "a = np.array([[10,11,12] , [10,21,33]])\n",
    "print(a)\n",
    "print(a.ndim)"
   ]
  },
  {
   "cell_type": "code",
   "execution_count": 17,
   "id": "2a687400",
   "metadata": {},
   "outputs": [
    {
     "name": "stdout",
     "output_type": "stream",
     "text": [
      "[[10 11 12]\n",
      " [10 21 33]]\n",
      "2\n"
     ]
    }
   ],
   "source": [
    "a = np.array([[10,11,12] , [10,21,33]])\n",
    "print(a)\n",
    "print(a.ndim)"
   ]
  },
  {
   "cell_type": "code",
   "execution_count": 19,
   "id": "88050908",
   "metadata": {},
   "outputs": [],
   "source": [
    "import warnings \n",
    "warnings.filterwarnings('ignore')"
   ]
  },
  {
   "cell_type": "code",
   "execution_count": 20,
   "id": "c54baa26",
   "metadata": {},
   "outputs": [
    {
     "name": "stdout",
     "output_type": "stream",
     "text": [
      "[list([10, 11, 12]) list([10, 21, 33, 55])]\n",
      "1\n"
     ]
    }
   ],
   "source": [
    "a = np.array([[10,11,12] , [10,21,33,55]])\n",
    "print(a)\n",
    "print(a.ndim)"
   ]
  },
  {
   "cell_type": "code",
   "execution_count": 23,
   "id": "e381381f",
   "metadata": {},
   "outputs": [
    {
     "name": "stdout",
     "output_type": "stream",
     "text": [
      "[[[10 11 12]\n",
      "  [10 21 33]\n",
      "  [21 22 23]]]\n",
      "3\n"
     ]
    }
   ],
   "source": [
    "a = np.array([[[10,11,12] , [10,21,33] , [21,22,23]]])\n",
    "print(a)\n",
    "print(a.ndim)"
   ]
  },
  {
   "cell_type": "code",
   "execution_count": 25,
   "id": "a8b2593e",
   "metadata": {},
   "outputs": [
    {
     "name": "stdout",
     "output_type": "stream",
     "text": [
      "1 2 3 4 5 6 7 8 9 10 "
     ]
    }
   ],
   "source": [
    "for i in range(1,11):\n",
    "    print(i,end=\" \")"
   ]
  },
  {
   "cell_type": "code",
   "execution_count": 28,
   "id": "ea40087d",
   "metadata": {},
   "outputs": [
    {
     "name": "stdout",
     "output_type": "stream",
     "text": [
      "[ 1  2  3  4  5  6  7  8  9 10]\n",
      "1\n"
     ]
    }
   ],
   "source": [
    "### arange same like range n-1\n",
    "\n",
    "a = np.arange(1,11)\n",
    "print(a)\n",
    "print(a.ndim)"
   ]
  },
  {
   "cell_type": "code",
   "execution_count": 29,
   "id": "86309538",
   "metadata": {},
   "outputs": [
    {
     "name": "stdout",
     "output_type": "stream",
     "text": [
      "[1 3 5 7 9]\n",
      "1\n"
     ]
    }
   ],
   "source": [
    "a = np.arange(1,11,2)\n",
    "print(a)\n",
    "print(a.ndim)"
   ]
  },
  {
   "cell_type": "code",
   "execution_count": 36,
   "id": "2f7f32e6",
   "metadata": {},
   "outputs": [
    {
     "name": "stdout",
     "output_type": "stream",
     "text": [
      "[ 1.  2.  3.  4.  5.  6.  7.  8.  9. 10.]\n"
     ]
    }
   ],
   "source": [
    "b = np.arange(1,11 , dtype = float)\n",
    "print(b)"
   ]
  },
  {
   "cell_type": "code",
   "execution_count": 38,
   "id": "305f4784",
   "metadata": {},
   "outputs": [
    {
     "name": "stdout",
     "output_type": "stream",
     "text": [
      "[[[10. 11. 12.]\n",
      "  [10. 21. 33.]\n",
      "  [21. 22. 23.]]]\n",
      "3\n"
     ]
    }
   ],
   "source": [
    "a = np.array([[[10,11,12] , [10,21,33] , [21,22,23]]] , dtype = float)\n",
    "print(a)\n",
    "print(a.ndim)"
   ]
  },
  {
   "cell_type": "code",
   "execution_count": 39,
   "id": "c4d060d0",
   "metadata": {},
   "outputs": [
    {
     "data": {
      "text/plain": [
       "array([10., 12., 14., 16., 18., 20.])"
      ]
     },
     "execution_count": 39,
     "metadata": {},
     "output_type": "execute_result"
    }
   ],
   "source": [
    "### Linespace means halfs \n",
    "\n",
    "# 10 to 20 -> 10 12.5 15 17.5 20\n",
    "\n",
    "a = np.linspace(10,20,6)\n",
    "a"
   ]
  },
  {
   "cell_type": "code",
   "execution_count": 41,
   "id": "61a369d1",
   "metadata": {},
   "outputs": [
    {
     "data": {
      "text/plain": [
       "array([10, 12, 15, 17, 20])"
      ]
     },
     "execution_count": 41,
     "metadata": {},
     "output_type": "execute_result"
    }
   ],
   "source": [
    "a = np.linspace(10,20,5 , dtype = int)\n",
    "a"
   ]
  },
  {
   "cell_type": "markdown",
   "id": "0178ad5a",
   "metadata": {},
   "source": [
    "### zeros "
   ]
  },
  {
   "cell_type": "code",
   "execution_count": 43,
   "id": "2bbb46e5",
   "metadata": {},
   "outputs": [
    {
     "data": {
      "text/plain": [
       "array([[0., 0.],\n",
       "       [0., 0.]])"
      ]
     },
     "execution_count": 43,
     "metadata": {},
     "output_type": "execute_result"
    }
   ],
   "source": [
    "a = np.zeros((2,2))\n",
    "a"
   ]
  },
  {
   "cell_type": "code",
   "execution_count": 45,
   "id": "88ccc65d",
   "metadata": {},
   "outputs": [
    {
     "data": {
      "text/plain": [
       "array([[0, 0, 0, 0, 0],\n",
       "       [0, 0, 0, 0, 0],\n",
       "       [0, 0, 0, 0, 0],\n",
       "       [0, 0, 0, 0, 0],\n",
       "       [0, 0, 0, 0, 0]])"
      ]
     },
     "execution_count": 45,
     "metadata": {},
     "output_type": "execute_result"
    }
   ],
   "source": [
    "a = np.zeros((5,5),dtype = int)\n",
    "a"
   ]
  },
  {
   "cell_type": "markdown",
   "id": "69096633",
   "metadata": {},
   "source": [
    "### ones "
   ]
  },
  {
   "cell_type": "code",
   "execution_count": 46,
   "id": "68a9f955",
   "metadata": {},
   "outputs": [
    {
     "data": {
      "text/plain": [
       "array([[1, 1, 1, 1, 1],\n",
       "       [1, 1, 1, 1, 1],\n",
       "       [1, 1, 1, 1, 1],\n",
       "       [1, 1, 1, 1, 1],\n",
       "       [1, 1, 1, 1, 1]])"
      ]
     },
     "execution_count": 46,
     "metadata": {},
     "output_type": "execute_result"
    }
   ],
   "source": [
    "a = np.ones((5,5),dtype = int)\n",
    "a"
   ]
  },
  {
   "cell_type": "markdown",
   "id": "5560fabc",
   "metadata": {},
   "source": [
    "### random concepts "
   ]
  },
  {
   "cell_type": "code",
   "execution_count": 50,
   "id": "0bf6b751",
   "metadata": {},
   "outputs": [
    {
     "data": {
      "text/plain": [
       "10"
      ]
     },
     "execution_count": 50,
     "metadata": {},
     "output_type": "execute_result"
    }
   ],
   "source": [
    "np.random.randint(10,20)  # random value will be collected "
   ]
  },
  {
   "cell_type": "code",
   "execution_count": 52,
   "id": "ec43f563",
   "metadata": {},
   "outputs": [
    {
     "data": {
      "text/plain": [
       "array([[0.27171819, 0.48752252, 0.05813985, 0.57687933],\n",
       "       [0.06584346, 0.88523434, 0.94338006, 0.05500982],\n",
       "       [0.88361322, 0.5992301 , 0.01680215, 0.16109396]])"
      ]
     },
     "execution_count": 52,
     "metadata": {},
     "output_type": "execute_result"
    }
   ],
   "source": [
    "np.random.rand(3,4)  # mostly values will be lie in between 0 to 1 only "
   ]
  },
  {
   "cell_type": "code",
   "execution_count": 53,
   "id": "a50a1339",
   "metadata": {},
   "outputs": [
    {
     "data": {
      "text/plain": [
       "array([[ 1.77635864, -0.09368659, -0.58894971, -0.70215188],\n",
       "       [ 0.70912265,  2.39036002, -0.76761884,  1.45990361],\n",
       "       [ 0.85247746, -0.97924846, -0.29075173, -1.0980916 ]])"
      ]
     },
     "execution_count": 53,
     "metadata": {},
     "output_type": "execute_result"
    }
   ],
   "source": [
    "np.random.randn(3,4)   # u will get the vlaues from standard deviation point "
   ]
  },
  {
   "cell_type": "code",
   "execution_count": 55,
   "id": "152129e6",
   "metadata": {},
   "outputs": [
    {
     "data": {
      "text/plain": [
       "array([[0.13059621, 0.21338915, 0.89505845, 0.98094413],\n",
       "       [0.87240147, 0.70512   , 0.01712552, 0.68571784],\n",
       "       [0.58296239, 0.44252534, 0.74348152, 0.15912424],\n",
       "       [0.38036401, 0.32001076, 0.26930313, 0.89979048],\n",
       "       [0.19555542, 0.37249451, 0.1998021 , 0.03201161]])"
      ]
     },
     "execution_count": 55,
     "metadata": {},
     "output_type": "execute_result"
    }
   ],
   "source": [
    "np.random.random((5,4))  # randomlly we will collect the values "
   ]
  },
  {
   "cell_type": "markdown",
   "id": "8f1e6022",
   "metadata": {},
   "source": [
    "### small slicing operations "
   ]
  },
  {
   "cell_type": "code",
   "execution_count": 56,
   "id": "99925592",
   "metadata": {},
   "outputs": [
    {
     "name": "stdout",
     "output_type": "stream",
     "text": [
      "[[[10 11 12]\n",
      "  [10 21 33]\n",
      "  [21 22 23]]]\n",
      "3\n"
     ]
    }
   ],
   "source": [
    "a = np.array([[[10,11,12] , [10,21,33] , [21,22,23]]] , dtype = int)\n",
    "print(a)\n",
    "print(a.ndim)"
   ]
  },
  {
   "cell_type": "code",
   "execution_count": 59,
   "id": "6b9072e9",
   "metadata": {},
   "outputs": [
    {
     "name": "stdout",
     "output_type": "stream",
     "text": [
      "[[10 11 12]\n",
      " [10 21 33]\n",
      " [21 22 23]]\n",
      "2\n"
     ]
    }
   ],
   "source": [
    "a = np.array([[10,11,12] , [10,21,33] , [21,22,23]] , dtype = int)\n",
    "print(a)\n",
    "print(a.ndim)"
   ]
  },
  {
   "cell_type": "code",
   "execution_count": 62,
   "id": "b67f8871",
   "metadata": {},
   "outputs": [
    {
     "data": {
      "text/plain": [
       "33"
      ]
     },
     "execution_count": 62,
     "metadata": {},
     "output_type": "execute_result"
    }
   ],
   "source": [
    "a[1][2]"
   ]
  },
  {
   "cell_type": "markdown",
   "id": "b338e01f",
   "metadata": {},
   "source": [
    "#### creating a dimensions on our own "
   ]
  },
  {
   "cell_type": "code",
   "execution_count": 64,
   "id": "3c9207fe",
   "metadata": {},
   "outputs": [
    {
     "name": "stdout",
     "output_type": "stream",
     "text": [
      "[ 1  2  3  4  5  6  7  8  9 10 11 12 13 14 15 16 17 18 19 20 21 22 23 24\n",
      " 25 26 27 28 29 30 31 32 33 34 35 36 37 38 39 40 41 42 43 44 45 46 47 48\n",
      " 49 50 51 52 53 54 55 56 57 58 59 60]\n",
      "1\n"
     ]
    }
   ],
   "source": [
    "# reshaping \n",
    "\n",
    "a = np.arange(1,61)\n",
    "print(a)\n",
    "print(a.ndim)"
   ]
  },
  {
   "cell_type": "code",
   "execution_count": 66,
   "id": "17ff1159",
   "metadata": {},
   "outputs": [
    {
     "name": "stdout",
     "output_type": "stream",
     "text": [
      "[[ 1  2  3  4  5  6]\n",
      " [ 7  8  9 10 11 12]\n",
      " [13 14 15 16 17 18]\n",
      " [19 20 21 22 23 24]\n",
      " [25 26 27 28 29 30]\n",
      " [31 32 33 34 35 36]\n",
      " [37 38 39 40 41 42]\n",
      " [43 44 45 46 47 48]\n",
      " [49 50 51 52 53 54]\n",
      " [55 56 57 58 59 60]]\n",
      "2\n"
     ]
    }
   ],
   "source": [
    "# 1d to 2d\n",
    "b = np.arange(1,61).reshape(10,6)\n",
    "print(b)\n",
    "print(b.ndim)"
   ]
  },
  {
   "cell_type": "code",
   "execution_count": 67,
   "id": "2962d75d",
   "metadata": {},
   "outputs": [
    {
     "name": "stdout",
     "output_type": "stream",
     "text": [
      "[[[ 1  2  3  4  5  6]\n",
      "  [ 7  8  9 10 11 12]]\n",
      "\n",
      " [[13 14 15 16 17 18]\n",
      "  [19 20 21 22 23 24]]\n",
      "\n",
      " [[25 26 27 28 29 30]\n",
      "  [31 32 33 34 35 36]]\n",
      "\n",
      " [[37 38 39 40 41 42]\n",
      "  [43 44 45 46 47 48]]\n",
      "\n",
      " [[49 50 51 52 53 54]\n",
      "  [55 56 57 58 59 60]]]\n",
      "3\n"
     ]
    }
   ],
   "source": [
    "# 1d or 2d to 3d \n",
    "\n",
    "c = np.arange(1,61).reshape(5,2,6)\n",
    "print(c)\n",
    "print(c.ndim)"
   ]
  },
  {
   "cell_type": "markdown",
   "id": "8963ab0a",
   "metadata": {},
   "source": [
    "### 1-d array "
   ]
  },
  {
   "cell_type": "code",
   "execution_count": 4,
   "id": "4c87f0f4",
   "metadata": {},
   "outputs": [
    {
     "name": "stdout",
     "output_type": "stream",
     "text": [
      "[ 1  2  3  4  5  6  7  8  9 10 11 12 13 14 15 16 17 18 19 20 21 22 23 24\n",
      " 25 26 27 28 29 30 31 32 33 34 35 36 37 38 39 40 41 42 43 44 45 46 47 48\n",
      " 49 50 51 52 53 54 55 56 57 58 59 60]\n",
      "The number of dimesions =  1\n"
     ]
    }
   ],
   "source": [
    "a = np.arange(1,61)\n",
    "print(a)\n",
    "print(\"The number of dimesions = \",a.ndim)"
   ]
  },
  {
   "cell_type": "code",
   "execution_count": 5,
   "id": "567d6edf",
   "metadata": {},
   "outputs": [
    {
     "data": {
      "text/plain": [
       "9"
      ]
     },
     "execution_count": 5,
     "metadata": {},
     "output_type": "execute_result"
    }
   ],
   "source": [
    "## accessing the value \n",
    "a[8]"
   ]
  },
  {
   "cell_type": "code",
   "execution_count": 6,
   "id": "a0b65f32",
   "metadata": {},
   "outputs": [
    {
     "data": {
      "text/plain": [
       "40"
      ]
     },
     "execution_count": 6,
     "metadata": {},
     "output_type": "execute_result"
    }
   ],
   "source": [
    "a[39]"
   ]
  },
  {
   "cell_type": "code",
   "execution_count": 35,
   "id": "4fe110a2",
   "metadata": {},
   "outputs": [
    {
     "name": "stdout",
     "output_type": "stream",
     "text": [
      "[10 11 12 13]\n",
      "1\n"
     ]
    }
   ],
   "source": [
    "a = np.array([10,11,12,13])\n",
    "print(a)\n",
    "print(a.ndim)"
   ]
  },
  {
   "cell_type": "code",
   "execution_count": 36,
   "id": "f70a2388",
   "metadata": {},
   "outputs": [
    {
     "data": {
      "text/plain": [
       "11"
      ]
     },
     "execution_count": 36,
     "metadata": {},
     "output_type": "execute_result"
    }
   ],
   "source": [
    "a[1]"
   ]
  },
  {
   "cell_type": "code",
   "execution_count": 37,
   "id": "6ce8e6cb",
   "metadata": {},
   "outputs": [
    {
     "data": {
      "text/plain": [
       "(4,)"
      ]
     },
     "execution_count": 37,
     "metadata": {},
     "output_type": "execute_result"
    }
   ],
   "source": [
    "a.shape"
   ]
  },
  {
   "cell_type": "code",
   "execution_count": 33,
   "id": "1ff83e93",
   "metadata": {},
   "outputs": [
    {
     "name": "stdout",
     "output_type": "stream",
     "text": [
      "[[10]\n",
      " [11]\n",
      " [12]\n",
      " [13]]\n"
     ]
    }
   ],
   "source": [
    "b = a.reshape(-1,1)\n",
    "print(b)"
   ]
  },
  {
   "cell_type": "code",
   "execution_count": 34,
   "id": "5b861547",
   "metadata": {},
   "outputs": [
    {
     "data": {
      "text/plain": [
       "(4, 1)"
      ]
     },
     "execution_count": 34,
     "metadata": {},
     "output_type": "execute_result"
    }
   ],
   "source": [
    "b.shape"
   ]
  },
  {
   "cell_type": "code",
   "execution_count": 38,
   "id": "c23e8c30",
   "metadata": {},
   "outputs": [
    {
     "name": "stdout",
     "output_type": "stream",
     "text": [
      "[[10 11 12 13]]\n"
     ]
    }
   ],
   "source": [
    "b = a.reshape(1,-1)\n",
    "print(b)"
   ]
  },
  {
   "cell_type": "code",
   "execution_count": 39,
   "id": "73fd9340",
   "metadata": {},
   "outputs": [
    {
     "data": {
      "text/plain": [
       "(1, 4)"
      ]
     },
     "execution_count": 39,
     "metadata": {},
     "output_type": "execute_result"
    }
   ],
   "source": [
    "b.shape"
   ]
  },
  {
   "cell_type": "markdown",
   "id": "18a8ef59",
   "metadata": {},
   "source": [
    "### 2-d array "
   ]
  },
  {
   "cell_type": "code",
   "execution_count": 7,
   "id": "3c47fb54",
   "metadata": {},
   "outputs": [
    {
     "name": "stdout",
     "output_type": "stream",
     "text": [
      "[[ 1  2  3  4  5  6]\n",
      " [ 7  8  9 10 11 12]\n",
      " [13 14 15 16 17 18]\n",
      " [19 20 21 22 23 24]\n",
      " [25 26 27 28 29 30]\n",
      " [31 32 33 34 35 36]\n",
      " [37 38 39 40 41 42]\n",
      " [43 44 45 46 47 48]\n",
      " [49 50 51 52 53 54]\n",
      " [55 56 57 58 59 60]]\n",
      "\n",
      "the number of dimesions =  2\n"
     ]
    }
   ],
   "source": [
    "a = np.arange(1,61).reshape(10,6)\n",
    "print(a)\n",
    "print()\n",
    "print('the number of dimesions = ' , a.ndim)"
   ]
  },
  {
   "cell_type": "code",
   "execution_count": 8,
   "id": "082a1ed5",
   "metadata": {},
   "outputs": [
    {
     "data": {
      "text/plain": [
       "16"
      ]
     },
     "execution_count": 8,
     "metadata": {},
     "output_type": "execute_result"
    }
   ],
   "source": [
    "a[2][3]"
   ]
  },
  {
   "cell_type": "code",
   "execution_count": 9,
   "id": "7e0ead04",
   "metadata": {},
   "outputs": [
    {
     "data": {
      "text/plain": [
       "47"
      ]
     },
     "execution_count": 9,
     "metadata": {},
     "output_type": "execute_result"
    }
   ],
   "source": [
    "a[7][4]"
   ]
  },
  {
   "cell_type": "code",
   "execution_count": 13,
   "id": "69d087b9",
   "metadata": {},
   "outputs": [
    {
     "name": "stdout",
     "output_type": "stream",
     "text": [
      "[[10 11 12 13]]\n"
     ]
    }
   ],
   "source": [
    "a = np.array([[10,11,12,13]])\n",
    "print(a)"
   ]
  },
  {
   "cell_type": "code",
   "execution_count": 15,
   "id": "4e7731e3",
   "metadata": {},
   "outputs": [
    {
     "data": {
      "text/plain": [
       "11"
      ]
     },
     "execution_count": 15,
     "metadata": {},
     "output_type": "execute_result"
    }
   ],
   "source": [
    "a[0][1]"
   ]
  },
  {
   "cell_type": "code",
   "execution_count": 44,
   "id": "554e63e4",
   "metadata": {},
   "outputs": [
    {
     "name": "stdout",
     "output_type": "stream",
     "text": [
      "[[10 11 12 13]\n",
      " [21 22 23 24]\n",
      " [41 42 43 44]]\n",
      "2\n"
     ]
    }
   ],
   "source": [
    "a = np.array([[10,11,12,13] , \n",
    "             [21,22,23,24],\n",
    "             [41,42,43,44]])\n",
    "print(a)\n",
    "print(a.ndim)"
   ]
  },
  {
   "cell_type": "code",
   "execution_count": 41,
   "id": "3c1b368f",
   "metadata": {},
   "outputs": [
    {
     "data": {
      "text/plain": [
       "23"
      ]
     },
     "execution_count": 41,
     "metadata": {},
     "output_type": "execute_result"
    }
   ],
   "source": [
    "a[1][2]"
   ]
  },
  {
   "cell_type": "code",
   "execution_count": 45,
   "id": "9aaf09b9",
   "metadata": {},
   "outputs": [
    {
     "data": {
      "text/plain": [
       "(3, 4)"
      ]
     },
     "execution_count": 45,
     "metadata": {},
     "output_type": "execute_result"
    }
   ],
   "source": [
    "a.shape   # shape funcion will gives us how many rows and columns are there "
   ]
  },
  {
   "cell_type": "code",
   "execution_count": 43,
   "id": "cd95d213",
   "metadata": {},
   "outputs": [
    {
     "data": {
      "text/plain": [
       "12"
      ]
     },
     "execution_count": 43,
     "metadata": {},
     "output_type": "execute_result"
    }
   ],
   "source": [
    "a.size   # size will tell us how many values are there "
   ]
  },
  {
   "cell_type": "markdown",
   "id": "faa53780",
   "metadata": {},
   "source": [
    "### round "
   ]
  },
  {
   "cell_type": "code",
   "execution_count": 46,
   "id": "eac1ccca",
   "metadata": {},
   "outputs": [
    {
     "name": "stdout",
     "output_type": "stream",
     "text": [
      "12.0\n"
     ]
    }
   ],
   "source": [
    "a = 12.2\n",
    "b = np.round(a)\n",
    "print(b)"
   ]
  },
  {
   "cell_type": "code",
   "execution_count": 47,
   "id": "45e0424b",
   "metadata": {},
   "outputs": [
    {
     "name": "stdout",
     "output_type": "stream",
     "text": [
      "13.0\n"
     ]
    }
   ],
   "source": [
    "a = 12.6\n",
    "b = np.round(a)\n",
    "print(b)"
   ]
  },
  {
   "cell_type": "code",
   "execution_count": 48,
   "id": "eb8253af",
   "metadata": {},
   "outputs": [
    {
     "name": "stdout",
     "output_type": "stream",
     "text": [
      "12.0\n"
     ]
    }
   ],
   "source": [
    "a = 12.5\n",
    "b = np.round(a)\n",
    "print(b)"
   ]
  },
  {
   "cell_type": "code",
   "execution_count": 50,
   "id": "dd78dbc5",
   "metadata": {},
   "outputs": [
    {
     "name": "stdout",
     "output_type": "stream",
     "text": [
      "13.0\n"
     ]
    }
   ],
   "source": [
    "a = 12.55\n",
    "b = np.round(a)\n",
    "print(b)"
   ]
  },
  {
   "cell_type": "markdown",
   "id": "2af3f8c0",
   "metadata": {},
   "source": [
    "### 3-d arrays "
   ]
  },
  {
   "cell_type": "code",
   "execution_count": 51,
   "id": "d4a49e7d",
   "metadata": {},
   "outputs": [
    {
     "name": "stdout",
     "output_type": "stream",
     "text": [
      "[[[ 1  2  3  4  5  6]\n",
      "  [ 7  8  9 10 11 12]]\n",
      "\n",
      " [[13 14 15 16 17 18]\n",
      "  [19 20 21 22 23 24]]\n",
      "\n",
      " [[25 26 27 28 29 30]\n",
      "  [31 32 33 34 35 36]]\n",
      "\n",
      " [[37 38 39 40 41 42]\n",
      "  [43 44 45 46 47 48]]\n",
      "\n",
      " [[49 50 51 52 53 54]\n",
      "  [55 56 57 58 59 60]]]\n"
     ]
    }
   ],
   "source": [
    "a = np.arange(1,61).reshape(5,2,6)\n",
    "print(a)"
   ]
  },
  {
   "cell_type": "code",
   "execution_count": 52,
   "id": "2c776d88",
   "metadata": {},
   "outputs": [
    {
     "name": "stdout",
     "output_type": "stream",
     "text": [
      "3\n"
     ]
    }
   ],
   "source": [
    "print(a.ndim)"
   ]
  },
  {
   "cell_type": "code",
   "execution_count": 53,
   "id": "d6a51965",
   "metadata": {},
   "outputs": [
    {
     "name": "stdout",
     "output_type": "stream",
     "text": [
      "(5, 2, 6)\n"
     ]
    }
   ],
   "source": [
    "print(a.shape)"
   ]
  },
  {
   "cell_type": "code",
   "execution_count": 54,
   "id": "a85616e0",
   "metadata": {},
   "outputs": [
    {
     "name": "stdout",
     "output_type": "stream",
     "text": [
      "60\n"
     ]
    }
   ],
   "source": [
    "print(a.size)"
   ]
  },
  {
   "cell_type": "code",
   "execution_count": 56,
   "id": "4e0ccf98",
   "metadata": {},
   "outputs": [
    {
     "data": {
      "text/plain": [
       "41"
      ]
     },
     "execution_count": 56,
     "metadata": {},
     "output_type": "execute_result"
    }
   ],
   "source": [
    "a[3][0][4]"
   ]
  },
  {
   "cell_type": "code",
   "execution_count": 57,
   "id": "1d8f848a",
   "metadata": {},
   "outputs": [
    {
     "data": {
      "text/plain": [
       "21"
      ]
     },
     "execution_count": 57,
     "metadata": {},
     "output_type": "execute_result"
    }
   ],
   "source": [
    "a[1][1][2]"
   ]
  },
  {
   "cell_type": "code",
   "execution_count": 58,
   "id": "5bc975f3",
   "metadata": {},
   "outputs": [
    {
     "name": "stdout",
     "output_type": "stream",
     "text": [
      "[[[ 1  2  3]\n",
      "  [ 4  5  6]\n",
      "  [ 7  8  9]\n",
      "  [10 11 12]]\n",
      "\n",
      " [[13 14 15]\n",
      "  [16 17 18]\n",
      "  [19 20 21]\n",
      "  [22 23 24]]\n",
      "\n",
      " [[25 26 27]\n",
      "  [28 29 30]\n",
      "  [31 32 33]\n",
      "  [34 35 36]]\n",
      "\n",
      " [[37 38 39]\n",
      "  [40 41 42]\n",
      "  [43 44 45]\n",
      "  [46 47 48]]\n",
      "\n",
      " [[49 50 51]\n",
      "  [52 53 54]\n",
      "  [55 56 57]\n",
      "  [58 59 60]]]\n"
     ]
    }
   ],
   "source": [
    "a = np.arange(1,61).reshape(5,4,3)\n",
    "print(a)"
   ]
  },
  {
   "cell_type": "code",
   "execution_count": 59,
   "id": "90d042b4",
   "metadata": {},
   "outputs": [
    {
     "data": {
      "text/plain": [
       "17"
      ]
     },
     "execution_count": 59,
     "metadata": {},
     "output_type": "execute_result"
    }
   ],
   "source": [
    "a[1][1][1]"
   ]
  },
  {
   "cell_type": "markdown",
   "id": "70a074f9",
   "metadata": {},
   "source": [
    "### operations using axis = 1 and axis = 0"
   ]
  },
  {
   "cell_type": "code",
   "execution_count": 60,
   "id": "6c2be646",
   "metadata": {},
   "outputs": [
    {
     "name": "stdout",
     "output_type": "stream",
     "text": [
      "[[ 1  2  3  4  5  6]\n",
      " [ 7  8  9 10 11 12]\n",
      " [13 14 15 16 17 18]\n",
      " [19 20 21 22 23 24]\n",
      " [25 26 27 28 29 30]\n",
      " [31 32 33 34 35 36]\n",
      " [37 38 39 40 41 42]\n",
      " [43 44 45 46 47 48]\n",
      " [49 50 51 52 53 54]\n",
      " [55 56 57 58 59 60]]\n",
      "\n",
      "the number of dimesions =  2\n"
     ]
    }
   ],
   "source": [
    "a = np.arange(1,61).reshape(10,6)\n",
    "print(a)\n",
    "print()\n",
    "print('the number of dimesions = ' , a.ndim)"
   ]
  },
  {
   "cell_type": "code",
   "execution_count": 61,
   "id": "f9f528d3",
   "metadata": {},
   "outputs": [],
   "source": [
    "# axis = 1 means row vise \n",
    "# axis = 0 means column vise "
   ]
  },
  {
   "cell_type": "code",
   "execution_count": 62,
   "id": "9b271151",
   "metadata": {},
   "outputs": [
    {
     "data": {
      "text/plain": [
       "1830"
      ]
     },
     "execution_count": 62,
     "metadata": {},
     "output_type": "execute_result"
    }
   ],
   "source": [
    "sol = np.sum(a)\n",
    "sol  # total sum"
   ]
  },
  {
   "cell_type": "code",
   "execution_count": 64,
   "id": "d78891b0",
   "metadata": {},
   "outputs": [
    {
     "data": {
      "text/plain": [
       "(10, 6)"
      ]
     },
     "execution_count": 64,
     "metadata": {},
     "output_type": "execute_result"
    }
   ],
   "source": [
    "a.shape"
   ]
  },
  {
   "cell_type": "code",
   "execution_count": 63,
   "id": "b2f32fe4",
   "metadata": {},
   "outputs": [
    {
     "data": {
      "text/plain": [
       "array([ 21,  57,  93, 129, 165, 201, 237, 273, 309, 345])"
      ]
     },
     "execution_count": 63,
     "metadata": {},
     "output_type": "execute_result"
    }
   ],
   "source": [
    "rows = np.sum(a , axis = 1)\n",
    "rows"
   ]
  },
  {
   "cell_type": "code",
   "execution_count": 66,
   "id": "4edee63f",
   "metadata": {},
   "outputs": [
    {
     "data": {
      "text/plain": [
       "129"
      ]
     },
     "execution_count": 66,
     "metadata": {},
     "output_type": "execute_result"
    }
   ],
   "source": [
    "rows[3]"
   ]
  },
  {
   "cell_type": "code",
   "execution_count": 65,
   "id": "811d5b07",
   "metadata": {},
   "outputs": [
    {
     "data": {
      "text/plain": [
       "array([280, 290, 300, 310, 320, 330])"
      ]
     },
     "execution_count": 65,
     "metadata": {},
     "output_type": "execute_result"
    }
   ],
   "source": [
    "    col = np.sum(a , axis = 0)\n",
    "    col"
   ]
  },
  {
   "cell_type": "markdown",
   "id": "ab118a30",
   "metadata": {},
   "source": [
    "### math operations "
   ]
  },
  {
   "cell_type": "code",
   "execution_count": 67,
   "id": "bde747e5",
   "metadata": {},
   "outputs": [
    {
     "data": {
      "text/plain": [
       "array([1.41421356, 1.73205081, 2.        , 2.23606798])"
      ]
     },
     "execution_count": 67,
     "metadata": {},
     "output_type": "execute_result"
    }
   ],
   "source": [
    "a = [2,3,4,5]\n",
    "b = np.sqrt(a)\n",
    "b"
   ]
  },
  {
   "cell_type": "code",
   "execution_count": 68,
   "id": "6413d70d",
   "metadata": {},
   "outputs": [
    {
     "data": {
      "text/plain": [
       "array([ 0.90929743,  0.14112001, -0.7568025 , -0.95892427])"
      ]
     },
     "execution_count": 68,
     "metadata": {},
     "output_type": "execute_result"
    }
   ],
   "source": [
    "a = [2,3,4,5]\n",
    "b = np.sin(a)\n",
    "b"
   ]
  },
  {
   "cell_type": "code",
   "execution_count": 69,
   "id": "041eba3d",
   "metadata": {},
   "outputs": [
    {
     "data": {
      "text/plain": [
       "array([-0.41614684, -0.9899925 , -0.65364362,  0.28366219])"
      ]
     },
     "execution_count": 69,
     "metadata": {},
     "output_type": "execute_result"
    }
   ],
   "source": [
    "a = [2,3,4,5]\n",
    "b = np.cos(a)\n",
    "b"
   ]
  },
  {
   "cell_type": "markdown",
   "id": "e72d6408",
   "metadata": {},
   "source": [
    "### Vstact and hstack"
   ]
  },
  {
   "cell_type": "code",
   "execution_count": 70,
   "id": "fb862633",
   "metadata": {},
   "outputs": [
    {
     "name": "stdout",
     "output_type": "stream",
     "text": [
      "[[ 1  2  3  4  5  6]\n",
      " [ 7  8  9 10 11 12]\n",
      " [13 14 15 16 17 18]\n",
      " [19 20 21 22 23 24]\n",
      " [25 26 27 28 29 30]\n",
      " [31 32 33 34 35 36]\n",
      " [37 38 39 40 41 42]\n",
      " [43 44 45 46 47 48]\n",
      " [49 50 51 52 53 54]\n",
      " [55 56 57 58 59 60]]\n"
     ]
    }
   ],
   "source": [
    "a = np.arange(1,61).reshape(10,6)\n",
    "print(a)"
   ]
  },
  {
   "cell_type": "code",
   "execution_count": 71,
   "id": "60fe4f37",
   "metadata": {},
   "outputs": [
    {
     "name": "stdout",
     "output_type": "stream",
     "text": [
      "[[ 61  62  63  64  65  66]\n",
      " [ 67  68  69  70  71  72]\n",
      " [ 73  74  75  76  77  78]\n",
      " [ 79  80  81  82  83  84]\n",
      " [ 85  86  87  88  89  90]\n",
      " [ 91  92  93  94  95  96]\n",
      " [ 97  98  99 100 101 102]\n",
      " [103 104 105 106 107 108]\n",
      " [109 110 111 112 113 114]\n",
      " [115 116 117 118 119 120]]\n"
     ]
    }
   ],
   "source": [
    "b = np.arange(61,121).reshape(10,6)\n",
    "print(b)"
   ]
  },
  {
   "cell_type": "code",
   "execution_count": 72,
   "id": "a6fdb1fa",
   "metadata": {},
   "outputs": [],
   "source": [
    "### vertical stacking means placing one array one the top of another array "
   ]
  },
  {
   "cell_type": "code",
   "execution_count": 74,
   "id": "d8db1e5d",
   "metadata": {},
   "outputs": [
    {
     "data": {
      "text/plain": [
       "array([[  1,   2,   3,   4,   5,   6],\n",
       "       [  7,   8,   9,  10,  11,  12],\n",
       "       [ 13,  14,  15,  16,  17,  18],\n",
       "       [ 19,  20,  21,  22,  23,  24],\n",
       "       [ 25,  26,  27,  28,  29,  30],\n",
       "       [ 31,  32,  33,  34,  35,  36],\n",
       "       [ 37,  38,  39,  40,  41,  42],\n",
       "       [ 43,  44,  45,  46,  47,  48],\n",
       "       [ 49,  50,  51,  52,  53,  54],\n",
       "       [ 55,  56,  57,  58,  59,  60],\n",
       "       [ 61,  62,  63,  64,  65,  66],\n",
       "       [ 67,  68,  69,  70,  71,  72],\n",
       "       [ 73,  74,  75,  76,  77,  78],\n",
       "       [ 79,  80,  81,  82,  83,  84],\n",
       "       [ 85,  86,  87,  88,  89,  90],\n",
       "       [ 91,  92,  93,  94,  95,  96],\n",
       "       [ 97,  98,  99, 100, 101, 102],\n",
       "       [103, 104, 105, 106, 107, 108],\n",
       "       [109, 110, 111, 112, 113, 114],\n",
       "       [115, 116, 117, 118, 119, 120]])"
      ]
     },
     "execution_count": 74,
     "metadata": {},
     "output_type": "execute_result"
    }
   ],
   "source": [
    "vstack = np.vstack((a,b))\n",
    "vstack\n"
   ]
  },
  {
   "cell_type": "code",
   "execution_count": 75,
   "id": "39644dc1",
   "metadata": {},
   "outputs": [
    {
     "data": {
      "text/plain": [
       "(20, 6)"
      ]
     },
     "execution_count": 75,
     "metadata": {},
     "output_type": "execute_result"
    }
   ],
   "source": [
    "vstack.shape"
   ]
  },
  {
   "cell_type": "code",
   "execution_count": 76,
   "id": "5e2cb42e",
   "metadata": {},
   "outputs": [
    {
     "data": {
      "text/plain": [
       "120"
      ]
     },
     "execution_count": 76,
     "metadata": {},
     "output_type": "execute_result"
    }
   ],
   "source": [
    "vstack.size"
   ]
  },
  {
   "cell_type": "code",
   "execution_count": 77,
   "id": "18e41c75",
   "metadata": {},
   "outputs": [],
   "source": [
    "### Horizantal stacking means we are going to place the values side by side "
   ]
  },
  {
   "cell_type": "code",
   "execution_count": 78,
   "id": "5fb48988",
   "metadata": {},
   "outputs": [
    {
     "data": {
      "text/plain": [
       "array([[  1,   2,   3,   4,   5,   6,  61,  62,  63,  64,  65,  66],\n",
       "       [  7,   8,   9,  10,  11,  12,  67,  68,  69,  70,  71,  72],\n",
       "       [ 13,  14,  15,  16,  17,  18,  73,  74,  75,  76,  77,  78],\n",
       "       [ 19,  20,  21,  22,  23,  24,  79,  80,  81,  82,  83,  84],\n",
       "       [ 25,  26,  27,  28,  29,  30,  85,  86,  87,  88,  89,  90],\n",
       "       [ 31,  32,  33,  34,  35,  36,  91,  92,  93,  94,  95,  96],\n",
       "       [ 37,  38,  39,  40,  41,  42,  97,  98,  99, 100, 101, 102],\n",
       "       [ 43,  44,  45,  46,  47,  48, 103, 104, 105, 106, 107, 108],\n",
       "       [ 49,  50,  51,  52,  53,  54, 109, 110, 111, 112, 113, 114],\n",
       "       [ 55,  56,  57,  58,  59,  60, 115, 116, 117, 118, 119, 120]])"
      ]
     },
     "execution_count": 78,
     "metadata": {},
     "output_type": "execute_result"
    }
   ],
   "source": [
    "hstack = np.hstack((a,b))\n",
    "hstack"
   ]
  },
  {
   "cell_type": "markdown",
   "id": "313c4cef",
   "metadata": {},
   "source": [
    "### simple operations "
   ]
  },
  {
   "cell_type": "code",
   "execution_count": 79,
   "id": "e6888075",
   "metadata": {},
   "outputs": [
    {
     "name": "stdout",
     "output_type": "stream",
     "text": [
      "10\n"
     ]
    }
   ],
   "source": [
    "a = [1,2,3,4]\n",
    "print(np.sum(a))"
   ]
  },
  {
   "cell_type": "code",
   "execution_count": 80,
   "id": "0be4ceba",
   "metadata": {},
   "outputs": [
    {
     "data": {
      "text/plain": [
       "4"
      ]
     },
     "execution_count": 80,
     "metadata": {},
     "output_type": "execute_result"
    }
   ],
   "source": [
    "max(a)"
   ]
  },
  {
   "cell_type": "code",
   "execution_count": 81,
   "id": "b68bda73",
   "metadata": {},
   "outputs": [
    {
     "data": {
      "text/plain": [
       "1"
      ]
     },
     "execution_count": 81,
     "metadata": {},
     "output_type": "execute_result"
    }
   ],
   "source": [
    "min(a)"
   ]
  },
  {
   "cell_type": "markdown",
   "id": "f9b30d58",
   "metadata": {},
   "source": [
    "### diagonal function \n"
   ]
  },
  {
   "cell_type": "code",
   "execution_count": 84,
   "id": "b5a52658",
   "metadata": {},
   "outputs": [
    {
     "data": {
      "text/plain": [
       "array([[10,  0,  0,  0],\n",
       "       [ 0, 11,  0,  0],\n",
       "       [ 0,  0, 15,  0],\n",
       "       [ 0,  0,  0, 21]])"
      ]
     },
     "execution_count": 84,
     "metadata": {},
     "output_type": "execute_result"
    }
   ],
   "source": [
    "diag = np.diag([10,11,15,21])\n",
    "diag"
   ]
  },
  {
   "cell_type": "markdown",
   "id": "aadc5932",
   "metadata": {},
   "source": [
    "### ravel "
   ]
  },
  {
   "cell_type": "code",
   "execution_count": 85,
   "id": "ebea14e5",
   "metadata": {},
   "outputs": [
    {
     "name": "stdout",
     "output_type": "stream",
     "text": [
      "[[ 10  11  12  13]\n",
      " [100 200 300 400]]\n"
     ]
    }
   ],
   "source": [
    "a = np.array([\n",
    "    [10,11,12,13],\n",
    "    [100,200,300,400]])\n",
    "print(a)"
   ]
  },
  {
   "cell_type": "code",
   "execution_count": 86,
   "id": "44640a7f",
   "metadata": {},
   "outputs": [],
   "source": [
    "## ravel function is goint to change 2d array to 1 d array \n"
   ]
  },
  {
   "cell_type": "code",
   "execution_count": 87,
   "id": "34b86abc",
   "metadata": {},
   "outputs": [
    {
     "data": {
      "text/plain": [
       "array([ 10,  11,  12,  13, 100, 200, 300, 400])"
      ]
     },
     "execution_count": 87,
     "metadata": {},
     "output_type": "execute_result"
    }
   ],
   "source": [
    "sol = a.ravel()\n",
    "sol"
   ]
  },
  {
   "cell_type": "code",
   "execution_count": 103,
   "id": "6fa1fff0",
   "metadata": {},
   "outputs": [
    {
     "name": "stdout",
     "output_type": "stream",
     "text": [
      "[[[ 10  11  12  13]\n",
      "  [100 200 300 400]]]\n",
      "3\n"
     ]
    }
   ],
   "source": [
    "a = np.array([[\n",
    "    [10,11,12,13],\n",
    "    [100,200,300,400]]])\n",
    "print(a)\n",
    "print(a.ndim)"
   ]
  },
  {
   "cell_type": "code",
   "execution_count": 104,
   "id": "54d64f25",
   "metadata": {},
   "outputs": [
    {
     "data": {
      "text/plain": [
       "array([ 10,  11,  12,  13, 100, 200, 300, 400])"
      ]
     },
     "execution_count": 104,
     "metadata": {},
     "output_type": "execute_result"
    }
   ],
   "source": [
    "sol = a.ravel()\n",
    "sol"
   ]
  },
  {
   "cell_type": "markdown",
   "id": "e6034c1d",
   "metadata": {},
   "source": [
    "## Transpose "
   ]
  },
  {
   "cell_type": "code",
   "execution_count": 90,
   "id": "85d91b7a",
   "metadata": {},
   "outputs": [
    {
     "name": "stdout",
     "output_type": "stream",
     "text": [
      "[[ 10  11  12  13]\n",
      " [100 200 300 400]]\n",
      "2\n"
     ]
    }
   ],
   "source": [
    "a = np.array([\n",
    "    [10,11,12,13],\n",
    "    [100,200,300,400]])\n",
    "print(a)\n",
    "print(a.ndim)"
   ]
  },
  {
   "cell_type": "code",
   "execution_count": 92,
   "id": "9ae23b36",
   "metadata": {},
   "outputs": [],
   "source": [
    "### Transpose means converting rows to columns and columns to rows"
   ]
  },
  {
   "cell_type": "code",
   "execution_count": 91,
   "id": "37e6d914",
   "metadata": {},
   "outputs": [
    {
     "data": {
      "text/plain": [
       "array([[ 10, 100],\n",
       "       [ 11, 200],\n",
       "       [ 12, 300],\n",
       "       [ 13, 400]])"
      ]
     },
     "execution_count": 91,
     "metadata": {},
     "output_type": "execute_result"
    }
   ],
   "source": [
    "a.T"
   ]
  },
  {
   "cell_type": "code",
   "execution_count": 93,
   "id": "c006466c",
   "metadata": {},
   "outputs": [
    {
     "data": {
      "text/plain": [
       "100"
      ]
     },
     "execution_count": 93,
     "metadata": {},
     "output_type": "execute_result"
    }
   ],
   "source": [
    "## absolute means converting negative values into positive \n",
    "a = np.abs(-100)\n",
    "a"
   ]
  },
  {
   "cell_type": "code",
   "execution_count": 94,
   "id": "55d908b3",
   "metadata": {},
   "outputs": [
    {
     "data": {
      "text/plain": [
       "79"
      ]
     },
     "execution_count": 94,
     "metadata": {},
     "output_type": "execute_result"
    }
   ],
   "source": [
    "v = np.abs(-79)\n",
    "v"
   ]
  },
  {
   "cell_type": "markdown",
   "id": "1cd045bf",
   "metadata": {},
   "source": [
    "### concatination "
   ]
  },
  {
   "cell_type": "code",
   "execution_count": 95,
   "id": "315a92b1",
   "metadata": {},
   "outputs": [],
   "source": [
    "# concatination means adding the matrix \n",
    "\n"
   ]
  },
  {
   "cell_type": "code",
   "execution_count": 96,
   "id": "2e928581",
   "metadata": {},
   "outputs": [],
   "source": [
    "a = np.array([\n",
    "    [10,11,12,13],\n",
    "    [100,200,300,400]])\n"
   ]
  },
  {
   "cell_type": "code",
   "execution_count": 97,
   "id": "2a7ebac9",
   "metadata": {},
   "outputs": [],
   "source": [
    "b = np.array([\n",
    "    [1,2,3,4],\n",
    "    [113,114,115,116]])"
   ]
  },
  {
   "cell_type": "code",
   "execution_count": 98,
   "id": "d20cab28",
   "metadata": {},
   "outputs": [
    {
     "data": {
      "text/plain": [
       "array([[ 10,  11,  12,  13],\n",
       "       [100, 200, 300, 400],\n",
       "       [  1,   2,   3,   4],\n",
       "       [113, 114, 115, 116]])"
      ]
     },
     "execution_count": 98,
     "metadata": {},
     "output_type": "execute_result"
    }
   ],
   "source": [
    "adding = np.concatenate((a,b))\n",
    "adding"
   ]
  },
  {
   "cell_type": "markdown",
   "id": "3ba36aa6",
   "metadata": {},
   "source": [
    "## eye "
   ]
  },
  {
   "cell_type": "code",
   "execution_count": 99,
   "id": "fe213ecc",
   "metadata": {},
   "outputs": [],
   "source": [
    "# eye means indentity matrix "
   ]
  },
  {
   "cell_type": "code",
   "execution_count": 102,
   "id": "3e2026ef",
   "metadata": {},
   "outputs": [
    {
     "data": {
      "text/plain": [
       "array([[1, 0, 0],\n",
       "       [0, 1, 0],\n",
       "       [0, 0, 1]])"
      ]
     },
     "execution_count": 102,
     "metadata": {},
     "output_type": "execute_result"
    }
   ],
   "source": [
    "a = np.eye(3,3 , dtype = int)\n",
    "a"
   ]
  },
  {
   "cell_type": "code",
   "execution_count": 105,
   "id": "0cc7a26f",
   "metadata": {},
   "outputs": [
    {
     "data": {
      "text/plain": [
       "array([[100,  12,  13],\n",
       "       [  1, 100,   3]])"
      ]
     },
     "execution_count": 105,
     "metadata": {},
     "output_type": "execute_result"
    }
   ],
   "source": [
    "a = np.array([[100,12,13],\n",
    "             [1,100,3]])\n",
    "a"
   ]
  },
  {
   "cell_type": "markdown",
   "id": "2f66eacc",
   "metadata": {},
   "source": [
    "### adding 2 arrays "
   ]
  },
  {
   "cell_type": "code",
   "execution_count": 106,
   "id": "07e35cdd",
   "metadata": {},
   "outputs": [
    {
     "data": {
      "text/plain": [
       "array([[ 1,  2,  3,  4],\n",
       "       [10, 11, 12, 13]])"
      ]
     },
     "execution_count": 106,
     "metadata": {},
     "output_type": "execute_result"
    }
   ],
   "source": [
    "a = np.array([[1,2,3,4],\n",
    "             [10,11,12,13]])\n",
    "a"
   ]
  },
  {
   "cell_type": "code",
   "execution_count": 108,
   "id": "5098d888",
   "metadata": {},
   "outputs": [
    {
     "data": {
      "text/plain": [
       "array([[100, 200, 300, 400],\n",
       "       [ 31,  33,  34,  35]])"
      ]
     },
     "execution_count": 108,
     "metadata": {},
     "output_type": "execute_result"
    }
   ],
   "source": [
    "b = np.array([[100,200, 300,400],\n",
    "             [31,33,34,35]])\n",
    "b"
   ]
  },
  {
   "cell_type": "code",
   "execution_count": 109,
   "id": "f50c2407",
   "metadata": {},
   "outputs": [
    {
     "data": {
      "text/plain": [
       "array([[101, 202, 303, 404],\n",
       "       [ 41,  44,  46,  48]])"
      ]
     },
     "execution_count": 109,
     "metadata": {},
     "output_type": "execute_result"
    }
   ],
   "source": [
    "a + b"
   ]
  },
  {
   "cell_type": "code",
   "execution_count": null,
   "id": "8b17afa5",
   "metadata": {},
   "outputs": [],
   "source": []
  }
 ],
 "metadata": {
  "kernelspec": {
   "display_name": "Python 3 (ipykernel)",
   "language": "python",
   "name": "python3"
  },
  "language_info": {
   "codemirror_mode": {
    "name": "ipython",
    "version": 3
   },
   "file_extension": ".py",
   "mimetype": "text/x-python",
   "name": "python",
   "nbconvert_exporter": "python",
   "pygments_lexer": "ipython3",
   "version": "3.9.12"
  }
 },
 "nbformat": 4,
 "nbformat_minor": 5
}
