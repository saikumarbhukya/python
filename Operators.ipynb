{
 "cells": [
  {
   "cell_type": "markdown",
   "id": "d2cfde37",
   "metadata": {},
   "source": [
    "### Arithmetic operators"
   ]
  },
  {
   "cell_type": "code",
   "execution_count": 1,
   "id": "ff033efd",
   "metadata": {},
   "outputs": [
    {
     "data": {
      "text/plain": [
       "9"
      ]
     },
     "execution_count": 1,
     "metadata": {},
     "output_type": "execute_result"
    }
   ],
   "source": [
    "4+5\n"
   ]
  },
  {
   "cell_type": "code",
   "execution_count": 2,
   "id": "605d69ea",
   "metadata": {},
   "outputs": [
    {
     "data": {
      "text/plain": [
       "1"
      ]
     },
     "execution_count": 2,
     "metadata": {},
     "output_type": "execute_result"
    }
   ],
   "source": [
    "5-4\n"
   ]
  },
  {
   "cell_type": "code",
   "execution_count": 3,
   "id": "d29a0ba6",
   "metadata": {},
   "outputs": [
    {
     "data": {
      "text/plain": [
       "20"
      ]
     },
     "execution_count": 3,
     "metadata": {},
     "output_type": "execute_result"
    }
   ],
   "source": [
    "5*4\n"
   ]
  },
  {
   "cell_type": "code",
   "execution_count": 4,
   "id": "7f04d7f9",
   "metadata": {},
   "outputs": [
    {
     "data": {
      "text/plain": [
       "2.0"
      ]
     },
     "execution_count": 4,
     "metadata": {},
     "output_type": "execute_result"
    }
   ],
   "source": [
    "4/2\n"
   ]
  },
  {
   "cell_type": "code",
   "execution_count": 5,
   "id": "4c00b5d8",
   "metadata": {},
   "outputs": [
    {
     "data": {
      "text/plain": [
       "0"
      ]
     },
     "execution_count": 5,
     "metadata": {},
     "output_type": "execute_result"
    }
   ],
   "source": [
    "4%2\n"
   ]
  },
  {
   "cell_type": "code",
   "execution_count": 6,
   "id": "5135c2f3",
   "metadata": {},
   "outputs": [
    {
     "data": {
      "text/plain": [
       "27"
      ]
     },
     "execution_count": 6,
     "metadata": {},
     "output_type": "execute_result"
    }
   ],
   "source": [
    "3*3*3\n"
   ]
  },
  {
   "cell_type": "code",
   "execution_count": 7,
   "id": "48ead49a",
   "metadata": {},
   "outputs": [
    {
     "data": {
      "text/plain": [
       "4"
      ]
     },
     "execution_count": 7,
     "metadata": {},
     "output_type": "execute_result"
    }
   ],
   "source": [
    "pow(2,2)\n"
   ]
  },
  {
   "cell_type": "code",
   "execution_count": 9,
   "id": "b714117f",
   "metadata": {},
   "outputs": [
    {
     "data": {
      "text/plain": [
       "16"
      ]
     },
     "execution_count": 9,
     "metadata": {},
     "output_type": "execute_result"
    }
   ],
   "source": [
    "pow(4,2)\n"
   ]
  },
  {
   "cell_type": "code",
   "execution_count": 10,
   "id": "006f2242",
   "metadata": {},
   "outputs": [
    {
     "data": {
      "text/plain": [
       "0"
      ]
     },
     "execution_count": 10,
     "metadata": {},
     "output_type": "execute_result"
    }
   ],
   "source": [
    "pow(2,2,2)"
   ]
  },
  {
   "cell_type": "code",
   "execution_count": 12,
   "id": "0e708cbc",
   "metadata": {},
   "outputs": [
    {
     "data": {
      "text/plain": [
       "1"
      ]
     },
     "execution_count": 12,
     "metadata": {},
     "output_type": "execute_result"
    }
   ],
   "source": [
    "pow(2,2,3)"
   ]
  },
  {
   "cell_type": "code",
   "execution_count": 13,
   "id": "14b99cc0",
   "metadata": {},
   "outputs": [
    {
     "data": {
      "text/plain": [
       "1"
      ]
     },
     "execution_count": 13,
     "metadata": {},
     "output_type": "execute_result"
    }
   ],
   "source": [
    "round(1.2)"
   ]
  },
  {
   "cell_type": "code",
   "execution_count": 14,
   "id": "6676660a",
   "metadata": {},
   "outputs": [
    {
     "data": {
      "text/plain": [
       "2"
      ]
     },
     "execution_count": 14,
     "metadata": {},
     "output_type": "execute_result"
    }
   ],
   "source": [
    "round(1.8)"
   ]
  },
  {
   "cell_type": "code",
   "execution_count": 15,
   "id": "cbe15863",
   "metadata": {},
   "outputs": [
    {
     "data": {
      "text/plain": [
       "2"
      ]
     },
     "execution_count": 15,
     "metadata": {},
     "output_type": "execute_result"
    }
   ],
   "source": [
    "round(1.5)\n"
   ]
  },
  {
   "cell_type": "markdown",
   "id": "212ab99f",
   "metadata": {},
   "source": [
    "### Relational operators"
   ]
  },
  {
   "cell_type": "code",
   "execution_count": 16,
   "id": "955e3cef",
   "metadata": {},
   "outputs": [
    {
     "name": "stdout",
     "output_type": "stream",
     "text": [
      "2\n"
     ]
    }
   ],
   "source": [
    "a=2\n",
    "b=a\n",
    "print(b)\n"
   ]
  },
  {
   "cell_type": "code",
   "execution_count": 17,
   "id": "b50669f4",
   "metadata": {},
   "outputs": [
    {
     "data": {
      "text/plain": [
       "True"
      ]
     },
     "execution_count": 17,
     "metadata": {},
     "output_type": "execute_result"
    }
   ],
   "source": [
    "a=100\n",
    "b=100\n",
    "a==b\n"
   ]
  },
  {
   "cell_type": "code",
   "execution_count": 20,
   "id": "3bdf0655",
   "metadata": {},
   "outputs": [
    {
     "data": {
      "text/plain": [
       "False"
      ]
     },
     "execution_count": 20,
     "metadata": {},
     "output_type": "execute_result"
    }
   ],
   "source": [
    "a=1\n",
    "b=2\n",
    "a==b\n"
   ]
  },
  {
   "cell_type": "code",
   "execution_count": 22,
   "id": "7c33f7cb",
   "metadata": {},
   "outputs": [
    {
     "data": {
      "text/plain": [
       "True"
      ]
     },
     "execution_count": 22,
     "metadata": {},
     "output_type": "execute_result"
    }
   ],
   "source": [
    "1<2\n"
   ]
  },
  {
   "cell_type": "code",
   "execution_count": 23,
   "id": "46eb22b9",
   "metadata": {},
   "outputs": [
    {
     "data": {
      "text/plain": [
       "True"
      ]
     },
     "execution_count": 23,
     "metadata": {},
     "output_type": "execute_result"
    }
   ],
   "source": [
    "10>1\n"
   ]
  },
  {
   "cell_type": "code",
   "execution_count": 24,
   "id": "9adec21c",
   "metadata": {},
   "outputs": [
    {
     "data": {
      "text/plain": [
       "True"
      ]
     },
     "execution_count": 24,
     "metadata": {},
     "output_type": "execute_result"
    }
   ],
   "source": [
    "1>=1\n"
   ]
  },
  {
   "cell_type": "code",
   "execution_count": 25,
   "id": "92498837",
   "metadata": {},
   "outputs": [
    {
     "data": {
      "text/plain": [
       "True"
      ]
     },
     "execution_count": 25,
     "metadata": {},
     "output_type": "execute_result"
    }
   ],
   "source": [
    "55<=55\n"
   ]
  },
  {
   "cell_type": "code",
   "execution_count": 26,
   "id": "060793ce",
   "metadata": {},
   "outputs": [
    {
     "data": {
      "text/plain": [
       "True"
      ]
     },
     "execution_count": 26,
     "metadata": {},
     "output_type": "execute_result"
    }
   ],
   "source": [
    "56<=78\n"
   ]
  },
  {
   "cell_type": "markdown",
   "id": "1376c580",
   "metadata": {},
   "source": [
    "### precision with and field with"
   ]
  },
  {
   "cell_type": "code",
   "execution_count": 28,
   "id": "1ec5461f",
   "metadata": {},
   "outputs": [
    {
     "data": {
      "text/plain": [
       "3.142857142857143"
      ]
     },
     "execution_count": 28,
     "metadata": {},
     "output_type": "execute_result"
    }
   ],
   "source": [
    "a=22/7\n",
    "a\n"
   ]
  },
  {
   "cell_type": "code",
   "execution_count": 30,
   "id": "2edcfded",
   "metadata": {},
   "outputs": [
    {
     "name": "stdout",
     "output_type": "stream",
     "text": [
      "collecting three decimal 3.142857 \n"
     ]
    }
   ],
   "source": [
    "print(\"collecting three decimal %.6f \"%a)"
   ]
  },
  {
   "cell_type": "code",
   "execution_count": 31,
   "id": "b3d0a215",
   "metadata": {},
   "outputs": [
    {
     "name": "stdout",
     "output_type": "stream",
     "text": [
      "saikumar\n"
     ]
    }
   ],
   "source": [
    "print(\"saikumar\")"
   ]
  },
  {
   "cell_type": "code",
   "execution_count": 34,
   "id": "770d849c",
   "metadata": {},
   "outputs": [
    {
     "name": "stdout",
     "output_type": "stream",
     "text": [
      "sai\n",
      "kumar\n"
     ]
    }
   ],
   "source": [
    "print(\"sai\\nkumar\")"
   ]
  },
  {
   "cell_type": "code",
   "execution_count": 35,
   "id": "4bdd2f91",
   "metadata": {},
   "outputs": [
    {
     "name": "stdout",
     "output_type": "stream",
     "text": [
      "sai\tkumar\n"
     ]
    }
   ],
   "source": [
    "print(\"sai\\tkumar\")"
   ]
  },
  {
   "cell_type": "markdown",
   "id": "931fa1af",
   "metadata": {},
   "source": [
    "### isinstance"
   ]
  },
  {
   "cell_type": "code",
   "execution_count": 36,
   "id": "ca3862d7",
   "metadata": {},
   "outputs": [
    {
     "data": {
      "text/plain": [
       "False"
      ]
     },
     "execution_count": 36,
     "metadata": {},
     "output_type": "execute_result"
    }
   ],
   "source": [
    "a=12.3\n",
    "isinstance(a,int)"
   ]
  },
  {
   "cell_type": "code",
   "execution_count": 37,
   "id": "a9a117d1",
   "metadata": {},
   "outputs": [
    {
     "data": {
      "text/plain": [
       "True"
      ]
     },
     "execution_count": 37,
     "metadata": {},
     "output_type": "execute_result"
    }
   ],
   "source": [
    "a=12.3\n",
    "isinstance(a,float)"
   ]
  },
  {
   "cell_type": "code",
   "execution_count": 42,
   "id": "4ed0d41c",
   "metadata": {},
   "outputs": [
    {
     "name": "stdout",
     "output_type": "stream",
     "text": [
      "tomarrow sai is going to office morning 9\n"
     ]
    }
   ],
   "source": [
    "a=\"sai\"\n",
    "b=\"going to office\"\n",
    "c=9\n",
    "print(\"tomarrow %s is %s morning %d\"%(a,b,c))\n"
   ]
  },
  {
   "cell_type": "code",
   "execution_count": null,
   "id": "4a1bf236",
   "metadata": {},
   "outputs": [],
   "source": []
  },
  {
   "cell_type": "code",
   "execution_count": null,
   "id": "3c93b649",
   "metadata": {},
   "outputs": [],
   "source": []
  }
 ],
 "metadata": {
  "kernelspec": {
   "display_name": "Python 3 (ipykernel)",
   "language": "python",
   "name": "python3"
  },
  "language_info": {
   "codemirror_mode": {
    "name": "ipython",
    "version": 3
   },
   "file_extension": ".py",
   "mimetype": "text/x-python",
   "name": "python",
   "nbconvert_exporter": "python",
   "pygments_lexer": "ipython3",
   "version": "3.9.12"
  }
 },
 "nbformat": 4,
 "nbformat_minor": 5
}
