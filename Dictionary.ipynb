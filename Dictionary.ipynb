{
 "cells": [
  {
   "cell_type": "code",
   "execution_count": null,
   "id": "42fc21ca",
   "metadata": {},
   "outputs": [],
   "source": [
    "## dictionary is an mutable data type\n",
    "## it works in a key and pair value\n",
    "## it is represented by {}\n"
   ]
  },
  {
   "cell_type": "code",
   "execution_count": 2,
   "id": "2e89f0b4",
   "metadata": {},
   "outputs": [
    {
     "data": {
      "text/plain": [
       "{'India': 'rohith sharma', 'srilanka': 'malinga', 'australia': 'ricky'}"
      ]
     },
     "execution_count": 2,
     "metadata": {},
     "output_type": "execute_result"
    }
   ],
   "source": [
    "a={'India':'rohith sharma','srilanka':'malinga','australia':'ricky'}\n",
    "a\n"
   ]
  },
  {
   "cell_type": "code",
   "execution_count": 3,
   "id": "7e28d967",
   "metadata": {},
   "outputs": [
    {
     "name": "stdout",
     "output_type": "stream",
     "text": [
      "{'India': 'rohith sharma', 'srilanka': 'malinga', 'australia': 'ricky'}\n",
      "<class 'dict'>\n"
     ]
    }
   ],
   "source": [
    "a={'India':'rohith sharma','srilanka':'malinga','australia':'ricky'}\n",
    "print(a)\n",
    "print(type(a))"
   ]
  },
  {
   "cell_type": "markdown",
   "id": "dabd7ea3",
   "metadata": {},
   "source": [
    "### create your own dat"
   ]
  },
  {
   "cell_type": "code",
   "execution_count": 4,
   "id": "d2642efe",
   "metadata": {},
   "outputs": [
    {
     "name": "stdout",
     "output_type": "stream",
     "text": [
      "{'apple': 20, 'banana': 30, 'mango': 50}\n"
     ]
    }
   ],
   "source": [
    "fruits={}\n",
    "\n",
    "fruits['apple']=20\n",
    "fruits['banana']=30\n",
    "fruits['mango']=50\n",
    "\n",
    "print(fruits)\n"
   ]
  },
  {
   "cell_type": "code",
   "execution_count": 5,
   "id": "e991e02a",
   "metadata": {},
   "outputs": [
    {
     "data": {
      "text/plain": [
       "'Java'"
      ]
     },
     "execution_count": 5,
     "metadata": {},
     "output_type": "execute_result"
    }
   ],
   "source": [
    "courses = {'first': 'datascience' , 'second':'Javascripts' , 'third' : 'Java'}\n",
    "\n",
    "courses['third']  # if we want to call values means we need to use their keys \n"
   ]
  },
  {
   "cell_type": "code",
   "execution_count": 6,
   "id": "f4505797",
   "metadata": {},
   "outputs": [
    {
     "data": {
      "text/plain": [
       "'datascience'"
      ]
     },
     "execution_count": 6,
     "metadata": {},
     "output_type": "execute_result"
    }
   ],
   "source": [
    "courses['first']"
   ]
  },
  {
   "cell_type": "markdown",
   "id": "63f5223d",
   "metadata": {},
   "source": [
    "### one key multiple values"
   ]
  },
  {
   "cell_type": "code",
   "execution_count": 7,
   "id": "9f00ba9c",
   "metadata": {},
   "outputs": [
    {
     "data": {
      "text/plain": [
       "{'India': ['ROhit', 'Dhoni'], 'Australia': ['Gulchrist', 'hidden']}"
      ]
     },
     "execution_count": 7,
     "metadata": {},
     "output_type": "execute_result"
    }
   ],
   "source": [
    "a = {'India' : ['ROhit','Dhoni'] , 'Australia' : ['Gulchrist' , 'hidden']}\n",
    "\n"
   ]
  },
  {
   "cell_type": "code",
   "execution_count": 14,
   "id": "51e9b000",
   "metadata": {},
   "outputs": [
    {
     "ename": "KeyError",
     "evalue": "'india'",
     "output_type": "error",
     "traceback": [
      "\u001b[1;31m---------------------------------------------------------------------------\u001b[0m",
      "\u001b[1;31mKeyError\u001b[0m                                  Traceback (most recent call last)",
      "Input \u001b[1;32mIn [14]\u001b[0m, in \u001b[0;36m<cell line: 1>\u001b[1;34m()\u001b[0m\n\u001b[1;32m----> 1\u001b[0m \u001b[43ma\u001b[49m\u001b[43m[\u001b[49m\u001b[38;5;124;43m'\u001b[39;49m\u001b[38;5;124;43mindia\u001b[39;49m\u001b[38;5;124;43m'\u001b[39;49m\u001b[43m]\u001b[49m\n",
      "\u001b[1;31mKeyError\u001b[0m: 'india'"
     ]
    }
   ],
   "source": [
    "a['india']"
   ]
  },
  {
   "cell_type": "code",
   "execution_count": 11,
   "id": "c8327cbe",
   "metadata": {},
   "outputs": [
    {
     "ename": "KeyError",
     "evalue": "'india'",
     "output_type": "error",
     "traceback": [
      "\u001b[1;31m---------------------------------------------------------------------------\u001b[0m",
      "\u001b[1;31mKeyError\u001b[0m                                  Traceback (most recent call last)",
      "Input \u001b[1;32mIn [11]\u001b[0m, in \u001b[0;36m<cell line: 2>\u001b[1;34m()\u001b[0m\n\u001b[0;32m      1\u001b[0m cricket \u001b[38;5;241m=\u001b[39m {\u001b[38;5;124m'\u001b[39m\u001b[38;5;124mIndia\u001b[39m\u001b[38;5;124m'\u001b[39m : [\u001b[38;5;124m'\u001b[39m\u001b[38;5;124mROhit\u001b[39m\u001b[38;5;124m'\u001b[39m,\u001b[38;5;124m'\u001b[39m\u001b[38;5;124mDhoni\u001b[39m\u001b[38;5;124m'\u001b[39m] , \u001b[38;5;124m'\u001b[39m\u001b[38;5;124mAustralia\u001b[39m\u001b[38;5;124m'\u001b[39m : [\u001b[38;5;124m'\u001b[39m\u001b[38;5;124mGulchrist\u001b[39m\u001b[38;5;124m'\u001b[39m , \u001b[38;5;124m'\u001b[39m\u001b[38;5;124mhidden\u001b[39m\u001b[38;5;124m'\u001b[39m]}\n\u001b[1;32m----> 2\u001b[0m \u001b[43mcricket\u001b[49m\u001b[43m[\u001b[49m\u001b[38;5;124;43m'\u001b[39;49m\u001b[38;5;124;43mindia\u001b[39;49m\u001b[38;5;124;43m'\u001b[39;49m\u001b[43m]\u001b[49m\n",
      "\u001b[1;31mKeyError\u001b[0m: 'india'"
     ]
    }
   ],
   "source": [
    "a = {'India' : ['ROhit','Dhoni'] , 'Australia' : ['Gulchrist' , 'hidden']}\n",
    "\n"
   ]
  },
  {
   "cell_type": "code",
   "execution_count": 13,
   "id": "2005bd74",
   "metadata": {},
   "outputs": [
    {
     "data": {
      "text/plain": [
       "'ricky'"
      ]
     },
     "execution_count": 13,
     "metadata": {},
     "output_type": "execute_result"
    }
   ],
   "source": [
    "a['australia']"
   ]
  },
  {
   "cell_type": "markdown",
   "id": "c2be899c",
   "metadata": {},
   "source": [
    "### dictionary is mutable"
   ]
  },
  {
   "cell_type": "code",
   "execution_count": 17,
   "id": "3a9bc5ea",
   "metadata": {},
   "outputs": [
    {
     "data": {
      "text/plain": [
       "{'name': 'sai', 'age': 25}"
      ]
     },
     "execution_count": 17,
     "metadata": {},
     "output_type": "execute_result"
    }
   ],
   "source": [
    "info={'name':'sai','age':25}\n",
    "info"
   ]
  },
  {
   "cell_type": "code",
   "execution_count": 20,
   "id": "49d9330b",
   "metadata": {},
   "outputs": [
    {
     "name": "stdout",
     "output_type": "stream",
     "text": [
      "{'name': 'sai', 'age': 30, 'sai': 30}\n"
     ]
    }
   ],
   "source": [
    "info['age']=30\n",
    "print(info)"
   ]
  },
  {
   "cell_type": "code",
   "execution_count": 21,
   "id": "533588ff",
   "metadata": {},
   "outputs": [],
   "source": [
    "information = {'Name' : 'kamal' , 'Age' : 50}\n",
    "\n",
    "information.update(Name = 'datascience')\n"
   ]
  },
  {
   "cell_type": "code",
   "execution_count": 22,
   "id": "c4ba823c",
   "metadata": {},
   "outputs": [
    {
     "data": {
      "text/plain": [
       "{'Name': 'datascience', 'Age': 50}"
      ]
     },
     "execution_count": 22,
     "metadata": {},
     "output_type": "execute_result"
    }
   ],
   "source": [
    "information"
   ]
  },
  {
   "cell_type": "code",
   "execution_count": null,
   "id": "20487293",
   "metadata": {},
   "outputs": [],
   "source": []
  }
 ],
 "metadata": {
  "kernelspec": {
   "display_name": "Python 3 (ipykernel)",
   "language": "python",
   "name": "python3"
  },
  "language_info": {
   "codemirror_mode": {
    "name": "ipython",
    "version": 3
   },
   "file_extension": ".py",
   "mimetype": "text/x-python",
   "name": "python",
   "nbconvert_exporter": "python",
   "pygments_lexer": "ipython3",
   "version": "3.9.12"
  }
 },
 "nbformat": 4,
 "nbformat_minor": 5
}
